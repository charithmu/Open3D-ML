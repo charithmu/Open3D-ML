{
 "cells": [
  {
   "cell_type": "code",
   "execution_count": null,
   "id": "double-chorus",
   "metadata": {},
   "outputs": [],
   "source": [
    "import open3d.ml.torch as ml3d\n",
    "import argparse\n",
    "import math\n",
    "import numpy as np\n",
    "import os\n",
    "import random\n",
    "import sys\n",
    "import torch\n",
    "from os.path import exists, join, isfile, dirname, abspath, split"
   ]
  },
  {
   "cell_type": "code",
   "execution_count": null,
   "id": "fifth-jenny",
   "metadata": {},
   "outputs": [],
   "source": [
    "def pred_custom_data(pc_names, pcs, pipeline_r, pipeline_k):\n",
    "    vis_points = []\n",
    "    \n",
    "    for i, data in enumerate(pcs):\n",
    "        name = pc_names[i]\n",
    "\n",
    "        results_r = pipeline_r.run_inference(data)\n",
    "        pred_label_r = (results_r['predict_labels'] + 1).astype(np.int32)\n",
    "        # WARNING, THIS IS A HACK\n",
    "        # Fill \"unlabeled\" value because predictions have no 0 values.\n",
    "        pred_label_r[0] = 0\n",
    "\n",
    "        label = data['label']\n",
    "        pts = data['point']\n",
    "\n",
    "        vis_d = {\n",
    "            \"name\": name,\n",
    "            \"points\": pts,\n",
    "            \"labels\": label,\n",
    "            \"pred\": pred_label_r,\n",
    "        }\n",
    "        vis_points.append(vis_d)\n",
    "\n",
    "        vis_d = {\n",
    "            \"name\": name + \"_randlanet\",\n",
    "            \"points\": pts,\n",
    "            \"labels\": pred_label_r,\n",
    "        }\n",
    "        vis_points.append(vis_d)\n",
    "\n",
    "    return vis_points"
   ]
  },
  {
   "cell_type": "code",
   "execution_count": null,
   "id": "medieval-major",
   "metadata": {},
   "outputs": [],
   "source": [
    "basedir = \"/home/threedee/repos/Open3D-ML\"\n",
    "datesetbase = \"/home/threedee/datasets\"\n",
    "\n",
    "randlanet_smartlab_cfg = basedir + \"/ml3d/configs/randlanet_smartlab.yml\"\n",
    "ckpt_path = basedir + \"/mytests/logs/RandLANet_SmartLab_tf/checkpoint/ckpt-5\"\n",
    "\n",
    "kitti_labels = ml3d.datasets.SemanticKITTI.get_label_to_names()\n",
    "\n",
    "ckpt_path = \n",
    "model = ml3d.models.SmartLab(ckpt_path=ckpt_path, )\n",
    "pipeline_r = ml3d.pipelines.SemanticSegmentation(model)\n",
    "pipeline_r.load_ckpt(model.cfg.ckpt_path)\n",
    "\n",
    "pcs_with_pred = pred_custom_data(pc_names, pcs, pipeline_r, pipeline_k)\n",
    "\n",
    "    v = ml3d.vis.Visualizer()\n",
    "lut = ml3d.vis.LabelLUT()\n",
    "\n",
    "for val in sorted(kitti_labels.keys()):\n",
    "    lut.add_label(kitti_labels[val], val)\n",
    "\n",
    "v.set_lut(\"labels\", lut)\n",
    "v.set_lut(\"pred\", lut)\n",
    "\n",
    "v.visualize(pcs_with_pred)"
   ]
  }
 ],
 "metadata": {
  "kernelspec": {
   "display_name": "Python 3",
   "language": "python",
   "name": "python3"
  },
  "language_info": {
   "codemirror_mode": {
    "name": "ipython",
    "version": 3
   },
   "file_extension": ".py",
   "mimetype": "text/x-python",
   "name": "python",
   "nbconvert_exporter": "python",
   "pygments_lexer": "ipython3",
   "version": "3.8.8"
  }
 },
 "nbformat": 4,
 "nbformat_minor": 5
}
