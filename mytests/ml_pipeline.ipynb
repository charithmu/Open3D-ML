{
 "cells": [
  {
   "cell_type": "code",
   "execution_count": 1,
   "id": "technical-courtesy",
   "metadata": {},
   "outputs": [
    {
     "name": "stdout",
     "output_type": "stream",
     "text": [
      "Using external Open3D-ML in /home/lidar/dev/Open3D-ML\n",
      "{'cfg_file': '/home/lidar/dev/Open3D-ML/ml3d/configs/randlanet_smartlab.yml',\n",
      " 'ckpt_path': '/home/lidar/dev/Open3D-ML/mytests/logs/RandLANet_SmartLab_tf/checkpoint/ckpt-6',\n",
      " 'dataset_path': '/home/lidar/datasets/SmartLab',\n",
      " 'device': 'cuda',\n",
      " 'framework': 'tf',\n",
      " 'split': 'test'}\n"
     ]
    }
   ],
   "source": [
    "import argparse\n",
    "import copy\n",
    "import os\n",
    "import os.path as osp\n",
    "import pprint\n",
    "import sys\n",
    "import time\n",
    "from pathlib import Path\n",
    "\n",
    "import numpy as np\n",
    "import pandas as pd\n",
    "import yaml\n",
    "from tqdm import tqdm\n",
    "\n",
    "homedir = str(Path.home())\n",
    "\n",
    "basedir = homedir + \"/dev/Open3D-ML\"\n",
    "datesetbase = homedir + \"/datasets\"\n",
    "\n",
    "os.environ[\"OPEN3D_ML_ROOT\"] = basedir\n",
    "\n",
    "import open3d.ml as _ml3d\n",
    "\n",
    "randlanet_semantickitti_cfg = basedir + \"/ml3d/configs/randlanet_semantickitti.yml\"\n",
    "randlanet_s3dis_cfg = basedir + \"/ml3d/configs/randlanet_s3dis.yml\"\n",
    "\n",
    "randlanet_smartlab_cfg = basedir + \"/ml3d/configs/randlanet_smartlab.yml\"\n",
    "kpconv_smartlab_cfg = basedir + \"/ml3d/configs/kpconv_smartlab.yml\"\n",
    "\n",
    "# checkpoints\n",
    "smartlab1 = basedir + \"/mytests/logs/RandLANet_SmartLab_tf/checkpoint/ckpt-6\"\n",
    "\n",
    "s3dis1 = basedir + \"/final-chechpoints/randlanet_s3dis_tf/checkpoint/ckpt-91\"\n",
    "s3dis2 = basedir + \"/final-checkpoints/RandLANet_S3DIS_tf/checkpoint/ckpt-6\"\n",
    "\n",
    "\n",
    "kwargs = {\n",
    "    \"framework\": \"tf\",\n",
    "    \"device\": \"cuda\",\n",
    "    \"dataset_path\": datesetbase + \"/SmartLab\",\n",
    "    \"split\": \"test\",\n",
    "    \"ckpt_path\": smartlab1,\n",
    "    \"cfg_file\": randlanet_smartlab_cfg,\n",
    "}\n",
    "\n",
    "args = type(\"args\", (object,), kwargs)()\n",
    "\n",
    "pprint.pprint(kwargs)"
   ]
  },
  {
   "cell_type": "code",
   "execution_count": 2,
   "id": "spectacular-audience",
   "metadata": {},
   "outputs": [
    {
     "name": "stdout",
     "output_type": "stream",
     "text": [
      "[PhysicalDevice(name='/physical_device:GPU:0', device_type='GPU'), PhysicalDevice(name='/physical_device:GPU:1', device_type='GPU'), PhysicalDevice(name='/physical_device:GPU:2', device_type='GPU')]\n"
     ]
    }
   ],
   "source": [
    "if args.framework == \"torch\":\n",
    "    import open3d.ml.torch as ml3d\n",
    "else:\n",
    "    import open3d.ml.tf as ml3d\n",
    "    import tensorflow as tf\n",
    "\n",
    "\n",
    "def merge_cfg_file(cfg, args, extra_dict):\n",
    "    if args.device is not None:\n",
    "        cfg.pipeline.device = args.device\n",
    "        cfg.model.device = args.device\n",
    "    if args.split is not None:\n",
    "        cfg.pipeline.split = args.split\n",
    "    if args.dataset_path is not None:\n",
    "        cfg.dataset.dataset_path = args.dataset_path\n",
    "    if args.ckpt_path is not None:\n",
    "        cfg.model.ckpt_path = args.ckpt_path\n",
    "\n",
    "    return cfg.dataset, cfg.pipeline, cfg.model\n",
    "\n",
    "\n",
    "device = args.device\n",
    "gpus = tf.config.experimental.list_physical_devices(\"GPU\")\n",
    "print(gpus)\n",
    "\n",
    "if gpus:\n",
    "    try:\n",
    "        for gpu in gpus:\n",
    "            tf.config.experimental.set_memory_growth(gpu, True)\n",
    "        if device == \"cpu\":\n",
    "            tf.config.set_visible_devices([], \"GPU\")\n",
    "        elif device == \"cuda\":\n",
    "            tf.config.set_visible_devices(gpus[0], \"GPU\")\n",
    "        else:\n",
    "            idx = device.split(\":\")[1]\n",
    "            tf.config.set_visible_devices(gpus[int(idx)], \"GPU\")\n",
    "    except RuntimeError as e:\n",
    "        print(e)\n",
    "\n",
    "cfg = _ml3d.utils.Config.load_from_file(args.cfg_file)\n",
    "\n",
    "cfg.dataset[\"dataset_path\"] = args.dataset_path\n",
    "\n",
    "Pipeline = _ml3d.utils.get_module(\"pipeline\", cfg.pipeline.name, args.framework)\n",
    "Model = _ml3d.utils.get_module(\"model\", cfg.model.name, args.framework)\n",
    "Dataset = _ml3d.utils.get_module(\"dataset\", cfg.dataset.name)\n",
    "\n",
    "cfg_dataset, cfg_pipeline, cfg_model = merge_cfg_file(cfg, args, None)\n",
    "\n",
    "dataset = Dataset(**cfg_dataset)\n",
    "model = Model(**cfg_model)\n",
    "pipeline = Pipeline(model, dataset, **cfg_pipeline)\n",
    "\n",
    "Unlabeled = [231, 87, 36]\n",
    "Floor = [188, 169, 26]\n",
    "Wall = [100, 244, 245]\n",
    "Robot = [150, 30, 140]\n",
    "Human = [0, 248, 26]\n",
    "AGV = [18, 35, 243]\n",
    "\n",
    "colors = {\n",
    "    \"Unlabeled\": [x / 255.0 for x in Unlabeled],\n",
    "    \"Floor\": [x / 255.0 for x in Floor],\n",
    "    \"Wall\": [x / 255.0 for x in Wall],\n",
    "    \"Robot\": [x / 255.0 for x in Robot],\n",
    "    \"Human\": [x / 255.0 for x in Human],\n",
    "    \"AGV\": [x / 255.0 for x in AGV],\n",
    "}"
   ]
  },
  {
   "cell_type": "code",
   "execution_count": null,
   "id": "reverse-tract",
   "metadata": {},
   "outputs": [],
   "source": [
    "vis = ml3d.vis.Visualizer()\n",
    "lut = ml3d.vis.LabelLUT()\n",
    "\n",
    "pprint.pprint(colors)\n",
    "i = 0\n",
    "for key, val in colors.items():\n",
    "    lut.add_label(key, i, val)\n",
    "    i = i + 1\n",
    "\n",
    "# vis.visualize_dataset(dataset, \"train\", width=2100, height=1600)  # , indices=range(100)\n",
    "vis.visualize_dataset(dataset, \"train\", lut, width=2100, height=1600)  # , indices=range(100)"
   ]
  },
  {
   "cell_type": "code",
   "execution_count": 3,
   "id": "promotional-region",
   "metadata": {
    "scrolled": true,
    "tags": []
   },
   "outputs": [
    {
     "name": "stderr",
     "output_type": "stream",
     "text": [
      "INFO - 2021-03-26 20:56:48,351 - semantic_segmentation - Restored from /home/lidar/dev/Open3D-ML/mytests/logs/RandLANet_SmartLab_tf/checkpoint/ckpt-6\n",
      "INFO - 2021-03-26 20:56:48,353 - semantic_segmentation - Logging in file : logs/RandLANet_SmartLab_tf/log_test_2021-03-26_20:56:48.txt\n",
      "INFO - 2021-03-26 20:56:48,353 - semantic_segmentation - Started testing\n",
      "INFO - 2021-03-26 20:56:48,354 - smartlab - Found 22 pointclouds for test\n",
      "test:   0%|          | 0/22 [00:00<?, ?it/s]INFO - 2021-03-26 20:56:48,358 - semantic_segmentation - running inference\n",
      "\n",
      "  0%|          | 0/20228 [00:00<?, ?it/s]\u001b[AWARNING - 2021-03-26 20:56:51,048 - deprecation - From %s: %s (from %s) is deprecated and will be removed %s.\n",
      "Instructions for updating:\n",
      "%s\n",
      "\n",
      " 45%|████▍     | 9044/20228 [00:02<00:03, 3371.29it/s]\u001b[A\n",
      "100%|██████████| 20228/20228 [00:03<00:00, 5354.74it/s]\u001b[A\n",
      "test:   5%|▍         | 1/22 [00:03<01:22,  3.92s/it]INFO - 2021-03-26 20:56:52,275 - semantic_segmentation - running inference\n",
      "\n",
      "  0%|          | 0/20319 [00:00<?, ?it/s]\u001b[A\n",
      " 55%|█████▌    | 11267/20319 [00:00<00:00, 15617.56it/s]\u001b[A\n",
      "100%|██████████| 20319/20319 [00:01<00:00, 15323.97it/s]\u001b[A\n",
      "test:   9%|▉         | 2/22 [00:05<00:49,  2.47s/it]INFO - 2021-03-26 20:56:53,732 - semantic_segmentation - running inference\n",
      "\n",
      "  0%|          | 0/21011 [00:00<?, ?it/s]\u001b[A\n",
      " 52%|█████▏    | 10877/21011 [00:00<00:00, 19114.07it/s]\u001b[A\n",
      "100%|██████████| 21011/21011 [00:01<00:00, 12001.60it/s]\u001b[A\n",
      "test:  14%|█▎        | 3/22 [00:07<00:41,  2.19s/it]INFO - 2021-03-26 20:56:55,595 - semantic_segmentation - running inference\n",
      "\n",
      "  0%|          | 0/20292 [00:00<?, ?it/s]\u001b[A\n",
      " 51%|█████     | 10322/20292 [00:00<00:00, 15724.89it/s]\u001b[A\n",
      "100%|██████████| 20292/20292 [00:01<00:00, 16336.45it/s]\u001b[A\n",
      "test:  18%|█▊        | 4/22 [00:08<00:33,  1.87s/it]INFO - 2021-03-26 20:56:56,973 - semantic_segmentation - running inference\n",
      "\n",
      "  0%|          | 0/20259 [00:00<?, ?it/s]\u001b[A\n",
      " 56%|█████▌    | 11288/20259 [00:00<00:00, 16260.61it/s]\u001b[A\n",
      "100%|██████████| 20259/20259 [00:01<00:00, 15078.12it/s]\u001b[A\n",
      "test:  23%|██▎       | 5/22 [00:10<00:29,  1.74s/it]INFO - 2021-03-26 20:56:58,477 - semantic_segmentation - running inference\n",
      "\n",
      "  0%|          | 0/20892 [00:00<?, ?it/s]\u001b[A\n",
      " 49%|████▉     | 10300/20892 [00:00<00:00, 19058.58it/s]\u001b[A\n",
      " 89%|████████▉ | 18631/20892 [00:01<00:00, 14234.71it/s]\u001b[A\n",
      "100%|██████████| 20892/20892 [00:01<00:00, 11584.50it/s]\u001b[A\n",
      "test:  27%|██▋       | 6/22 [00:12<00:28,  1.81s/it]INFO - 2021-03-26 20:57:00,417 - semantic_segmentation - running inference\n",
      "\n",
      "  0%|          | 0/20223 [00:00<?, ?it/s]\u001b[A\n",
      " 54%|█████▍    | 10945/20223 [00:00<00:00, 17133.86it/s]\u001b[A\n",
      "100%|██████████| 20223/20223 [00:01<00:00, 16232.35it/s]\u001b[A\n",
      "test:  32%|███▏      | 7/22 [00:13<00:25,  1.67s/it]INFO - 2021-03-26 20:57:01,799 - semantic_segmentation - running inference\n",
      "\n",
      "  0%|          | 0/20596 [00:00<?, ?it/s]\u001b[A\n",
      " 57%|█████▋    | 11704/20596 [00:00<00:00, 20568.35it/s]\u001b[A\n",
      "100%|██████████| 20596/20596 [00:01<00:00, 17885.50it/s]\u001b[A\n",
      "test:  36%|███▋      | 8/22 [00:14<00:21,  1.54s/it]INFO - 2021-03-26 20:57:03,071 - semantic_segmentation - running inference\n",
      "\n",
      "  0%|          | 0/20529 [00:00<?, ?it/s]\u001b[A\n",
      " 55%|█████▍    | 11212/20529 [00:00<00:00, 18716.18it/s]\u001b[A\n",
      "100%|██████████| 20529/20529 [00:02<00:00, 8714.85it/s] \u001b[A\n",
      "test:  41%|████      | 9/22 [00:17<00:23,  1.83s/it]INFO - 2021-03-26 20:57:05,542 - semantic_segmentation - running inference\n",
      "\n",
      "  0%|          | 0/20285 [00:00<?, ?it/s]\u001b[A\n",
      " 47%|████▋     | 9446/20285 [00:00<00:00, 16070.08it/s]\u001b[A\n",
      " 90%|█████████ | 18306/20285 [00:01<00:00, 14283.70it/s]\u001b[A\n",
      "100%|██████████| 20285/20285 [00:01<00:00, 10881.32it/s]\u001b[A\n",
      "test:  45%|████▌     | 10/22 [00:19<00:22,  1.88s/it]INFO - 2021-03-26 20:57:07,528 - semantic_segmentation - running inference\n",
      "\n",
      "  0%|          | 0/20495 [00:00<?, ?it/s]\u001b[A\n",
      " 44%|████▍     | 9111/20495 [00:00<00:00, 14796.05it/s]\u001b[A\n",
      " 85%|████████▍ | 17336/20495 [00:01<00:00, 14322.16it/s]\u001b[A\n",
      "100%|██████████| 20495/20495 [00:01<00:00, 11549.98it/s]\u001b[A\n",
      "test:  50%|█████     | 11/22 [00:21<00:20,  1.88s/it]INFO - 2021-03-26 20:57:09,413 - semantic_segmentation - running inference\n",
      "\n",
      "  0%|          | 0/19824 [00:00<?, ?it/s]\u001b[A\n",
      " 52%|█████▏    | 10379/19824 [00:00<00:00, 11966.27it/s]\u001b[A\n",
      "100%|██████████| 19824/19824 [00:02<00:00, 9348.80it/s] \u001b[A\n",
      "test:  55%|█████▍    | 12/22 [00:23<00:19,  1.99s/it]INFO - 2021-03-26 20:57:11,654 - semantic_segmentation - running inference\n",
      "\n",
      "  0%|          | 0/20169 [00:00<?, ?it/s]\u001b[A\n",
      " 47%|████▋     | 9446/20169 [00:00<00:00, 16111.80it/s]\u001b[A\n",
      "100%|██████████| 20169/20169 [00:01<00:00, 11551.75it/s]\u001b[A\n",
      "test:  59%|█████▉    | 13/22 [00:25<00:17,  1.96s/it]INFO - 2021-03-26 20:57:13,531 - semantic_segmentation - running inference\n",
      "\n",
      "  0%|          | 0/20362 [00:00<?, ?it/s]\u001b[A\n",
      " 54%|█████▍    | 11003/20362 [00:00<00:00, 19358.19it/s]\u001b[A\n",
      "100%|██████████| 20362/20362 [00:02<00:00, 8584.81it/s] \u001b[A\n",
      "test:  64%|██████▎   | 14/22 [00:27<00:16,  2.12s/it]INFO - 2021-03-26 20:57:16,028 - semantic_segmentation - running inference\n",
      "\n",
      "  0%|          | 0/20417 [00:00<?, ?it/s]\u001b[A\n",
      " 53%|█████▎    | 10765/20417 [00:00<00:00, 19471.37it/s]\u001b[A\n",
      "100%|██████████| 20417/20417 [00:01<00:00, 10460.53it/s]\u001b[A\n",
      "test:  68%|██████▊   | 15/22 [00:29<00:14,  2.11s/it]INFO - 2021-03-26 20:57:18,118 - semantic_segmentation - running inference\n",
      "\n",
      "  0%|          | 0/20885 [00:00<?, ?it/s]\u001b[A\n",
      " 51%|█████     | 10567/20885 [00:00<00:00, 15615.11it/s]\u001b[A\n",
      "100%|██████████| 20885/20885 [00:01<00:00, 16359.29it/s]\u001b[A\n",
      "test:  73%|███████▎  | 16/22 [00:31<00:11,  1.89s/it]INFO - 2021-03-26 20:57:19,510 - semantic_segmentation - running inference\n",
      "\n",
      "  0%|          | 0/20312 [00:00<?, ?it/s]\u001b[A\n",
      " 54%|█████▍    | 10928/20312 [00:00<00:00, 18644.61it/s]\u001b[A\n",
      "100%|██████████| 20312/20312 [00:01<00:00, 11259.05it/s]\u001b[A\n",
      "test:  77%|███████▋  | 17/22 [00:33<00:09,  1.91s/it]INFO - 2021-03-26 20:57:21,459 - semantic_segmentation - running inference\n",
      "\n",
      "  0%|          | 0/20708 [00:00<?, ?it/s]\u001b[A\n",
      " 51%|█████     | 10491/20708 [00:00<00:00, 15234.37it/s]\u001b[A\n",
      "100%|██████████| 20708/20708 [00:01<00:00, 14672.65it/s]\u001b[A\n",
      "test:  82%|████████▏ | 18/22 [00:34<00:07,  1.81s/it]INFO - 2021-03-26 20:57:23,029 - semantic_segmentation - running inference\n",
      "\n",
      "  0%|          | 0/21127 [00:00<?, ?it/s]\u001b[A\n",
      " 55%|█████▍    | 11574/21127 [00:00<00:00, 22806.10it/s]\u001b[A\n",
      "100%|██████████| 21127/21127 [00:01<00:00, 11090.83it/s]\u001b[A\n",
      "test:  86%|████████▋ | 19/22 [00:36<00:05,  1.87s/it]INFO - 2021-03-26 20:57:25,060 - semantic_segmentation - running inference\n",
      "\n",
      "  0%|          | 0/20292 [00:00<?, ?it/s]\u001b[A\n",
      " 48%|████▊     | 9818/20292 [00:00<00:00, 15932.18it/s]\u001b[A\n",
      "100%|██████████| 20292/20292 [00:01<00:00, 17089.10it/s]\u001b[A\n",
      "test:  91%|█████████ | 20/22 [00:38<00:03,  1.71s/it]INFO - 2021-03-26 20:57:26,393 - semantic_segmentation - running inference\n",
      "\n",
      "  0%|          | 0/20131 [00:00<?, ?it/s]\u001b[A\n",
      " 45%|████▍     | 9025/20131 [00:00<00:00, 14164.91it/s]\u001b[A\n",
      " 89%|████████▉ | 17912/20131 [00:01<00:00, 13409.09it/s]\u001b[A\n",
      "100%|██████████| 20131/20131 [00:01<00:00, 10508.89it/s]\u001b[A\n",
      "test:  95%|█████████▌| 21/22 [00:40<00:01,  1.81s/it]INFO - 2021-03-26 20:57:28,435 - semantic_segmentation - running inference\n",
      "\n",
      "  0%|          | 0/19793 [00:00<?, ?it/s]\u001b[A\n",
      " 63%|██████▎   | 12387/19793 [00:00<00:00, 19702.12it/s]\u001b[A\n",
      "100%|██████████| 19793/19793 [00:01<00:00, 15396.96it/s]\u001b[A\n",
      "test: 100%|██████████| 22/22 [00:41<00:00,  1.89s/it]\n",
      "/home/lidar/dev/Open3D-ML/ml3d/tf/pipelines/semantic_segmentation.py:198: RuntimeWarning: Mean of empty slice\n",
      "  accs = np.nanmean(np.array(accs), axis=0)\n",
      "/home/lidar/dev/Open3D-ML/ml3d/tf/pipelines/semantic_segmentation.py:199: RuntimeWarning: Mean of empty slice\n",
      "  ious = np.nanmean(np.array(ious), axis=0)\n",
      "INFO - 2021-03-26 20:57:29,835 - semantic_segmentation - Per class Accuracy : [0.99245878 0.98554011 0.99865584 0.98235587 0.97637807        nan]\n",
      "INFO - 2021-03-26 20:57:29,837 - semantic_segmentation - Per class IOUs : [0.9687173  0.97941427 0.99865584 0.97950419 0.97293452        nan]\n",
      "INFO - 2021-03-26 20:57:29,838 - semantic_segmentation - Overall Accuracy : 0.988\n",
      "INFO - 2021-03-26 20:57:29,838 - semantic_segmentation - Overall IOU : 0.980\n"
     ]
    },
    {
     "name": "stdout",
     "output_type": "stream",
     "text": [
      "[0.99245878 0.98554011 0.99865584 0.98235587 0.97637807        nan\n",
      " 0.98762813]\n",
      "[0.9687173  0.97941427 0.99865584 0.97950419 0.97293452        nan\n",
      " 0.98017747]\n"
     ]
    }
   ],
   "source": [
    "pipeline.cfg_tb = {\n",
    "    \"readme\": \"readme\",\n",
    "    \"cmd_line\": \"cmd_line\",\n",
    "    \"dataset\": pprint.pformat(cfg_dataset, indent=2),\n",
    "    \"model\": pprint.pformat(cfg_model, indent=2),\n",
    "    \"pipeline\": pprint.pformat(cfg_pipeline, indent=2),\n",
    "}\n",
    "# print(pipeline.cfg_tb)\n",
    "\n",
    "if args.split == \"test\":\n",
    "    pipeline.run_test()\n",
    "else:\n",
    "    pipeline.run_train()"
   ]
  },
  {
   "cell_type": "code",
   "execution_count": null,
   "id": "appointed-edinburgh",
   "metadata": {},
   "outputs": [],
   "source": [
    "# pipeline.load_ckpt(ckpt_path=ckpt_path)\n",
    "# pipeline.run_test()\n",
    "\n",
    "# data = test_split.get_data(0)\n",
    "# attr = test_split.get_attr(0)\n",
    "# print(attr)\n",
    "\n",
    "# results = pipeline.run_inference(data)\n",
    "\n",
    "# pred = (results['predict_labels']).astype(np.int32)\n",
    "# scores = results['predict_scores']"
   ]
  },
  {
   "cell_type": "code",
   "execution_count": 4,
   "id": "sonic-interstate",
   "metadata": {
    "scrolled": true
   },
   "outputs": [
    {
     "name": "stderr",
     "output_type": "stream",
     "text": [
      "INFO - 2021-03-26 21:00:43,093 - smartlab - Found 22 pointclouds for test\n",
      "INFO - 2021-03-26 21:00:43,097 - semantic_segmentation - running inference\n",
      "  0%|          | 0/20259 [00:00<?, ?it/s]"
     ]
    },
    {
     "name": "stdout",
     "output_type": "stream",
     "text": [
      "{'name': 'pcd-1615488252297943000', 'path': '/home/lidar/datasets/SmartLab/test/pcd-1615488252297943000.npy', 'split': 'test'}\n"
     ]
    },
    {
     "name": "stderr",
     "output_type": "stream",
     "text": [
      "100%|██████████| 20259/20259 [00:01<00:00, 16282.73it/s]\n",
      "INFO - 2021-03-26 21:00:44,464 - semantic_segmentation - running inference\n",
      "  0%|          | 0/19824 [00:00<?, ?it/s]"
     ]
    },
    {
     "name": "stdout",
     "output_type": "stream",
     "text": [
      "{'name': 'pcd-1615483739343909000', 'path': '/home/lidar/datasets/SmartLab/test/pcd-1615483739343909000.npy', 'split': 'test'}\n"
     ]
    },
    {
     "name": "stderr",
     "output_type": "stream",
     "text": [
      "100%|██████████| 19824/19824 [00:01<00:00, 10684.79it/s]\n",
      "INFO - 2021-03-26 21:00:46,453 - semantic_segmentation - running inference\n",
      "  0%|          | 0/19793 [00:00<?, ?it/s]"
     ]
    },
    {
     "name": "stdout",
     "output_type": "stream",
     "text": [
      "{'name': 'pcd-1615484712733143000', 'path': '/home/lidar/datasets/SmartLab/test/pcd-1615484712733143000.npy', 'split': 'test'}\n"
     ]
    },
    {
     "name": "stderr",
     "output_type": "stream",
     "text": [
      "100%|██████████| 19793/19793 [00:01<00:00, 11680.11it/s]\n",
      "INFO - 2021-03-26 21:00:48,254 - semantic_segmentation - running inference\n",
      "  0%|          | 0/20131 [00:00<?, ?it/s]"
     ]
    },
    {
     "name": "stdout",
     "output_type": "stream",
     "text": [
      "{'name': 'pcd-1615488244079931000', 'path': '/home/lidar/datasets/SmartLab/test/pcd-1615488244079931000.npy', 'split': 'test'}\n"
     ]
    },
    {
     "name": "stderr",
     "output_type": "stream",
     "text": [
      "100%|██████████| 20131/20131 [00:01<00:00, 17353.05it/s]\n",
      "INFO - 2021-03-26 21:00:49,522 - semantic_segmentation - running inference\n",
      "  0%|          | 0/20312 [00:00<?, ?it/s]"
     ]
    },
    {
     "name": "stdout",
     "output_type": "stream",
     "text": [
      "{'name': 'pcd-1615488243053861000', 'path': '/home/lidar/datasets/SmartLab/test/pcd-1615488243053861000.npy', 'split': 'test'}\n"
     ]
    },
    {
     "name": "stderr",
     "output_type": "stream",
     "text": [
      "100%|██████████| 20312/20312 [00:01<00:00, 19976.64it/s]\n",
      "INFO - 2021-03-26 21:00:50,658 - semantic_segmentation - running inference\n",
      "  0%|          | 0/20292 [00:00<?, ?it/s]"
     ]
    },
    {
     "name": "stdout",
     "output_type": "stream",
     "text": [
      "{'name': 'pcd-1615489266115863000', 'path': '/home/lidar/datasets/SmartLab/test/pcd-1615489266115863000.npy', 'split': 'test'}\n"
     ]
    },
    {
     "name": "stderr",
     "output_type": "stream",
     "text": [
      "100%|██████████| 20292/20292 [00:01<00:00, 10191.88it/s]\n",
      "INFO - 2021-03-26 21:00:52,757 - semantic_segmentation - running inference\n",
      "  0%|          | 0/20708 [00:00<?, ?it/s]"
     ]
    },
    {
     "name": "stdout",
     "output_type": "stream",
     "text": [
      "{'name': 'pcd-1615483762914950000', 'path': '/home/lidar/datasets/SmartLab/test/pcd-1615483762914950000.npy', 'split': 'test'}\n"
     ]
    },
    {
     "name": "stderr",
     "output_type": "stream",
     "text": [
      "100%|██████████| 20708/20708 [00:01<00:00, 11665.42it/s]\n",
      "INFO - 2021-03-26 21:00:54,644 - semantic_segmentation - running inference\n",
      "  0%|          | 0/21127 [00:00<?, ?it/s]"
     ]
    },
    {
     "name": "stdout",
     "output_type": "stream",
     "text": [
      "{'name': 'pcd-1615483757870381000', 'path': '/home/lidar/datasets/SmartLab/test/pcd-1615483757870381000.npy', 'split': 'test'}\n"
     ]
    },
    {
     "name": "stderr",
     "output_type": "stream",
     "text": [
      "100%|██████████| 21127/21127 [00:01<00:00, 11546.41it/s]\n",
      "INFO - 2021-03-26 21:00:56,586 - semantic_segmentation - running inference\n",
      "  0%|          | 0/20285 [00:00<?, ?it/s]"
     ]
    },
    {
     "name": "stdout",
     "output_type": "stream",
     "text": [
      "{'name': 'pcd-1615484675696102000', 'path': '/home/lidar/datasets/SmartLab/test/pcd-1615484675696102000.npy', 'split': 'test'}\n"
     ]
    },
    {
     "name": "stderr",
     "output_type": "stream",
     "text": [
      "100%|██████████| 20285/20285 [00:01<00:00, 12786.10it/s]\n",
      "INFO - 2021-03-26 21:00:58,298 - semantic_segmentation - running inference\n",
      "  0%|          | 0/20529 [00:00<?, ?it/s]"
     ]
    },
    {
     "name": "stdout",
     "output_type": "stream",
     "text": [
      "{'name': 'pcd-1615483727027118000', 'path': '/home/lidar/datasets/SmartLab/test/pcd-1615483727027118000.npy', 'split': 'test'}\n"
     ]
    },
    {
     "name": "stderr",
     "output_type": "stream",
     "text": [
      "100%|██████████| 20529/20529 [00:01<00:00, 12332.42it/s]\n",
      "INFO - 2021-03-26 21:01:00,090 - semantic_segmentation - running inference\n",
      "  0%|          | 0/20362 [00:00<?, ?it/s]"
     ]
    },
    {
     "name": "stdout",
     "output_type": "stream",
     "text": [
      "{'name': 'pcd-1615488226596761000', 'path': '/home/lidar/datasets/SmartLab/test/pcd-1615488226596761000.npy', 'split': 'test'}\n"
     ]
    },
    {
     "name": "stderr",
     "output_type": "stream",
     "text": [
      "100%|██████████| 20362/20362 [00:01<00:00, 10320.10it/s]\n",
      "INFO - 2021-03-26 21:01:02,187 - semantic_segmentation - running inference\n",
      "  0%|          | 0/20169 [00:00<?, ?it/s]"
     ]
    },
    {
     "name": "stdout",
     "output_type": "stream",
     "text": [
      "{'name': 'pcd-1615489251599760000', 'path': '/home/lidar/datasets/SmartLab/test/pcd-1615489251599760000.npy', 'split': 'test'}\n"
     ]
    },
    {
     "name": "stderr",
     "output_type": "stream",
     "text": [
      "100%|██████████| 20169/20169 [00:01<00:00, 11926.45it/s]\n",
      "INFO - 2021-03-26 21:01:04,003 - semantic_segmentation - running inference\n",
      "  0%|          | 0/20292 [00:00<?, ?it/s]"
     ]
    },
    {
     "name": "stdout",
     "output_type": "stream",
     "text": [
      "{'name': 'pcd-1615489259898564000', 'path': '/home/lidar/datasets/SmartLab/test/pcd-1615489259898564000.npy', 'split': 'test'}\n"
     ]
    },
    {
     "name": "stderr",
     "output_type": "stream",
     "text": [
      "100%|██████████| 20292/20292 [00:01<00:00, 12012.83it/s]\n",
      "INFO - 2021-03-26 21:01:05,818 - semantic_segmentation - running inference\n",
      "  0%|          | 0/20596 [00:00<?, ?it/s]"
     ]
    },
    {
     "name": "stdout",
     "output_type": "stream",
     "text": [
      "{'name': 'pcd-1615489278347081000', 'path': '/home/lidar/datasets/SmartLab/test/pcd-1615489278347081000.npy', 'split': 'test'}\n"
     ]
    },
    {
     "name": "stderr",
     "output_type": "stream",
     "text": [
      "100%|██████████| 20596/20596 [00:01<00:00, 19338.35it/s]\n",
      "INFO - 2021-03-26 21:01:06,988 - semantic_segmentation - running inference\n",
      "  0%|          | 0/20223 [00:00<?, ?it/s]"
     ]
    },
    {
     "name": "stdout",
     "output_type": "stream",
     "text": [
      "{'name': 'pcd-1615484672610317000', 'path': '/home/lidar/datasets/SmartLab/test/pcd-1615484672610317000.npy', 'split': 'test'}\n"
     ]
    },
    {
     "name": "stderr",
     "output_type": "stream",
     "text": [
      "100%|██████████| 20223/20223 [00:01<00:00, 12073.76it/s]\n",
      "INFO - 2021-03-26 21:01:08,766 - semantic_segmentation - running inference\n",
      "  0%|          | 0/20417 [00:00<?, ?it/s]"
     ]
    },
    {
     "name": "stdout",
     "output_type": "stream",
     "text": [
      "{'name': 'pcd-1615489260902569000', 'path': '/home/lidar/datasets/SmartLab/test/pcd-1615489260902569000.npy', 'split': 'test'}\n"
     ]
    },
    {
     "name": "stderr",
     "output_type": "stream",
     "text": [
      "100%|██████████| 20417/20417 [00:01<00:00, 13219.34it/s]\n",
      "INFO - 2021-03-26 21:01:10,426 - semantic_segmentation - running inference\n",
      "  0%|          | 0/20319 [00:00<?, ?it/s]"
     ]
    },
    {
     "name": "stdout",
     "output_type": "stream",
     "text": [
      "{'name': 'pcd-1615488238993010000', 'path': '/home/lidar/datasets/SmartLab/test/pcd-1615488238993010000.npy', 'split': 'test'}\n"
     ]
    },
    {
     "name": "stderr",
     "output_type": "stream",
     "text": [
      "100%|██████████| 20319/20319 [00:01<00:00, 11866.54it/s]\n",
      "INFO - 2021-03-26 21:01:12,260 - semantic_segmentation - running inference\n",
      "  0%|          | 0/20885 [00:00<?, ?it/s]"
     ]
    },
    {
     "name": "stdout",
     "output_type": "stream",
     "text": [
      "{'name': 'pcd-1615484689041582000', 'path': '/home/lidar/datasets/SmartLab/test/pcd-1615484689041582000.npy', 'split': 'test'}\n"
     ]
    },
    {
     "name": "stderr",
     "output_type": "stream",
     "text": [
      "100%|██████████| 20885/20885 [00:01<00:00, 10615.84it/s]\n",
      "INFO - 2021-03-26 21:01:14,333 - semantic_segmentation - running inference\n",
      "  0%|          | 0/20892 [00:00<?, ?it/s]"
     ]
    },
    {
     "name": "stdout",
     "output_type": "stream",
     "text": [
      "{'name': 'pcd-1615488246150749000', 'path': '/home/lidar/datasets/SmartLab/test/pcd-1615488246150749000.npy', 'split': 'test'}\n"
     ]
    },
    {
     "name": "stderr",
     "output_type": "stream",
     "text": [
      "100%|██████████| 20892/20892 [00:01<00:00, 12443.82it/s]\n",
      "INFO - 2021-03-26 21:01:16,130 - semantic_segmentation - running inference\n",
      "  0%|          | 0/20495 [00:00<?, ?it/s]"
     ]
    },
    {
     "name": "stdout",
     "output_type": "stream",
     "text": [
      "{'name': 'pcd-1615489277344776000', 'path': '/home/lidar/datasets/SmartLab/test/pcd-1615489277344776000.npy', 'split': 'test'}\n"
     ]
    },
    {
     "name": "stderr",
     "output_type": "stream",
     "text": [
      "100%|██████████| 20495/20495 [00:01<00:00, 19630.37it/s]\n",
      "INFO - 2021-03-26 21:01:17,279 - semantic_segmentation - running inference\n",
      "  0%|          | 0/20228 [00:00<?, ?it/s]"
     ]
    },
    {
     "name": "stdout",
     "output_type": "stream",
     "text": [
      "{'name': 'pcd-1615483731179918000', 'path': '/home/lidar/datasets/SmartLab/test/pcd-1615483731179918000.npy', 'split': 'test'}\n"
     ]
    },
    {
     "name": "stderr",
     "output_type": "stream",
     "text": [
      "100%|██████████| 20228/20228 [00:01<00:00, 12208.80it/s]\n",
      "INFO - 2021-03-26 21:01:19,047 - semantic_segmentation - running inference\n",
      "  0%|          | 0/21011 [00:00<?, ?it/s]"
     ]
    },
    {
     "name": "stdout",
     "output_type": "stream",
     "text": [
      "{'name': 'pcd-1615484698297940000', 'path': '/home/lidar/datasets/SmartLab/test/pcd-1615484698297940000.npy', 'split': 'test'}\n"
     ]
    },
    {
     "name": "stderr",
     "output_type": "stream",
     "text": [
      "100%|██████████| 21011/21011 [00:01<00:00, 12332.63it/s]"
     ]
    },
    {
     "name": "stdout",
     "output_type": "stream",
     "text": [
      "\n",
      "\n",
      "[1.3683624389996112, 1.988302300000214, 1.8002257070002088, 1.268239346001792, 1.1371166230019298, 2.0981392590001633, 1.8880569950015342, 1.9410079839981336, 1.712371739999071, 1.7919061810025596, 2.0974644249981793, 1.8147676679982396, 1.814536133002548, 1.171173817001545, 1.7787348040001234, 1.660002026001166, 1.833371423999779, 2.072687665000558, 1.7971283739971113, 1.1496547890019428, 1.767770187001588, 1.8113864890001423]\n",
      "Average time 1.7165 seconds\n"
     ]
    },
    {
     "name": "stderr",
     "output_type": "stream",
     "text": [
      "\n"
     ]
    }
   ],
   "source": [
    "test_split = dataset.get_split(\"test\")\n",
    "\n",
    "vis_points = []\n",
    "times = []\n",
    "\n",
    "# for idx in range(len(test_split)):\n",
    "for idx in range(len(test_split)):\n",
    "\n",
    "    st = time.perf_counter()\n",
    "    attr = test_split.get_attr(idx)\n",
    "    data = test_split.get_data(idx)\n",
    "\n",
    "    print(attr)\n",
    "    results = pipeline.run_inference(data)\n",
    "\n",
    "    pred = (results[\"predict_labels\"]).astype(np.int32)\n",
    "\n",
    "    label = data[\"label\"]\n",
    "    pts = data[\"point\"]\n",
    "\n",
    "    vis_d = {\n",
    "        \"name\": attr[\"name\"],\n",
    "        \"points\": pts,\n",
    "        \"labels\": label,\n",
    "        \"pred\": pred,\n",
    "    }\n",
    "\n",
    "    vis_points.append(vis_d)\n",
    "    et = time.perf_counter()\n",
    "    times.append(et - st)\n",
    "\n",
    "print(\"\\n\")\n",
    "print(times)\n",
    "print(f\"Average time {np.mean(times):0.4f} seconds\")"
   ]
  },
  {
   "cell_type": "code",
   "execution_count": null,
   "id": "cooperative-norman",
   "metadata": {},
   "outputs": [
    {
     "name": "stdout",
     "output_type": "stream",
     "text": [
      "{0: 'Unlabeled', 1: 'Floor', 2: 'Wall', 3: 'Robot', 4: 'Human', 5: 'AGV'}\n"
     ]
    }
   ],
   "source": [
    "v = ml3d.vis.Visualizer()\n",
    "\n",
    "lut = ml3d.vis.LabelLUT()\n",
    "\n",
    "# pprint.pprint(colors)\n",
    "\n",
    "label_names = dataset.get_label_to_names()\n",
    "pprint.pprint(label_names)\n",
    "\n",
    "for (c, cv), (l, lv) in zip(colors.items(), label_names.items()):\n",
    "    lut.add_label(lv, l, cv)\n",
    "\n",
    "# for key, val in dataset.label_to_names.items():\n",
    "#     lut.add_label(val, key)\n",
    "\n",
    "v.set_lut(\"labels\", lut)\n",
    "v.set_lut(\"pred\", lut)\n",
    "\n",
    "v.visualize(vis_points, width=2600, height=2000)"
   ]
  },
  {
   "cell_type": "code",
   "execution_count": null,
   "id": "confident-tuition",
   "metadata": {},
   "outputs": [],
   "source": [
    "test_split = dataset.get_split(\"test\")\n",
    "\n",
    "for idx in range(len(test_split)):\n",
    "    attr = test_split.get_attr(idx)\n",
    "    data = test_split.get_data(idx)\n",
    "\n",
    "    unique, counts = np.unique(data[\"label\"], return_counts=True)\n",
    "    print(np.asarray((unique, counts)))"
   ]
  }
 ],
 "metadata": {
  "kernelspec": {
   "display_name": "Python 3",
   "language": "python",
   "name": "python3"
  },
  "language_info": {
   "codemirror_mode": {
    "name": "ipython",
    "version": 3
   },
   "file_extension": ".py",
   "mimetype": "text/x-python",
   "name": "python",
   "nbconvert_exporter": "python",
   "pygments_lexer": "ipython3",
   "version": "3.8.8"
  }
 },
 "nbformat": 4,
 "nbformat_minor": 5
}
