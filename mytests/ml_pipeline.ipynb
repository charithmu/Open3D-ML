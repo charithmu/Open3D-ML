{
 "cells": [
  {
   "cell_type": "code",
   "execution_count": 6,
   "id": "determined-latex",
   "metadata": {},
   "outputs": [],
   "source": [
    "import argparse\n",
    "import copy\n",
    "import os\n",
    "import os.path as osp\n",
    "import pprint\n",
    "import sys\n",
    "import time\n",
    "from pathlib import Path\n",
    "\n",
    "import open3d.ml as _ml3d\n",
    "import yaml"
   ]
  },
  {
   "cell_type": "code",
   "execution_count": 7,
   "id": "purple-monkey",
   "metadata": {},
   "outputs": [],
   "source": [
    "basedir = \"/home/threedee/repos/Open3D-ML\"\n",
    "datesetbase = \"/home/threedee/datasets\"\n",
    "\n",
    "randlanet_smartlab_cfg = basedir + \"/ml3d/configs/randlanet_smartlab.yml\"\n",
    "randlanet_semantickitti_cfg = basedir +\"/ml3d/configs/randlanet_semantickitti.yml\"\n",
    "randlanet_s3dis_cfg = basedir + \"/ml3d/configs/randlanet_s3dis.yml\""
   ]
  },
  {
   "cell_type": "code",
   "execution_count": 8,
   "id": "acquired-slovak",
   "metadata": {},
   "outputs": [
    {
     "name": "stdout",
     "output_type": "stream",
     "text": [
      "{'cfg_file': '/home/threedee/repos/Open3D-ML/ml3d/configs/randlanet_smartlab.yml',\n",
      " 'ckpt_path': None,\n",
      " 'dataset_path': '/home/threedee/datasets/SmartLab',\n",
      " 'device': 'cuda',\n",
      " 'framework': 'tf',\n",
      " 'split': 'training'}\n"
     ]
    }
   ],
   "source": [
    "kwargs = {\n",
    "    \"framework\": \"tf\",\n",
    "    \"device\": \"cuda\",\n",
    "    \"dataset_path\": datesetbase + \"/SmartLab\",\n",
    "    \"split\": \"training\",\n",
    "    \"ckpt_path\": None,\n",
    "    \"cfg_file\": randlanet_smartlab_cfg,\n",
    "}\n",
    "\n",
    "args = type(\"args\", (object,), kwargs)()\n",
    "\n",
    "pprint.pprint(kwargs)"
   ]
  },
  {
   "cell_type": "code",
   "execution_count": 9,
   "id": "violent-experience",
   "metadata": {},
   "outputs": [],
   "source": [
    "if args.framework == \"torch\":\n",
    "    import open3d.ml.torch as ml3d\n",
    "else:\n",
    "    import open3d.ml.tf as ml3d\n",
    "    import tensorflow as tf\n",
    "\n",
    "def merge_cfg_file(cfg, args, extra_dict):\n",
    "    if args.device is not None:\n",
    "        cfg.pipeline.device = args.device\n",
    "        cfg.model.device = args.device\n",
    "    if args.split is not None:\n",
    "        cfg.pipeline.split = args.split\n",
    "    if args.dataset_path is not None:\n",
    "        cfg.dataset.dataset_path = args.dataset_path\n",
    "    if args.ckpt_path is not None:\n",
    "        cfg.model.ckpt_path = args.ckpt_path\n",
    "\n",
    "    return cfg.dataset, cfg.pipeline, cfg.model"
   ]
  },
  {
   "cell_type": "code",
   "execution_count": 10,
   "id": "indian-wesley",
   "metadata": {},
   "outputs": [
    {
     "name": "stdout",
     "output_type": "stream",
     "text": [
      "[PhysicalDevice(name='/physical_device:GPU:0', device_type='GPU')]\n"
     ]
    }
   ],
   "source": [
    "device = args.device\n",
    "gpus = tf.config.experimental.list_physical_devices(\"GPU\")\n",
    "print(gpus)\n",
    "if gpus:\n",
    "    try:\n",
    "        for gpu in gpus:\n",
    "            tf.config.experimental.set_memory_growth(gpu, True)\n",
    "        if device == \"cpu\":\n",
    "            tf.config.set_visible_devices([], \"GPU\")\n",
    "        elif device == \"cuda\":\n",
    "            tf.config.set_visible_devices(gpus[0], \"GPU\")\n",
    "        else:\n",
    "            idx = device.split(\":\")[1]\n",
    "            tf.config.set_visible_devices(gpus[int(idx)], \"GPU\")\n",
    "    except RuntimeError as e:\n",
    "        print(e)"
   ]
  },
  {
   "cell_type": "code",
   "execution_count": 11,
   "id": "spiritual-guitar",
   "metadata": {},
   "outputs": [],
   "source": [
    "cfg = _ml3d.utils.Config.load_from_file(args.cfg_file)\n",
    "\n",
    "Pipeline = _ml3d.utils.get_module(\"pipeline\", cfg.pipeline.name, args.framework)\n",
    "Model = _ml3d.utils.get_module(\"model\", cfg.model.name, args.framework)\n",
    "Dataset = _ml3d.utils.get_module(\"dataset\", cfg.dataset.name)\n",
    "\n",
    "cfg_dataset, cfg_pipeline, cfg_model = merge_cfg_file(cfg, args, None)\n",
    "\n",
    "dataset = Dataset(**cfg_dataset)\n",
    "model = Model(**cfg_model)\n",
    "pipeline = Pipeline(model, dataset, **cfg_pipeline)"
   ]
  },
  {
   "cell_type": "code",
   "execution_count": null,
   "id": "suspected-chart",
   "metadata": {},
   "outputs": [],
   "source": [
    "# show the first 100 frames using the visualizer\n",
    "vis = ml3d.vis.Visualizer()\n",
    "vis.visualize_dataset(dataset, \"training\")  # , indices=range(100)"
   ]
  },
  {
   "cell_type": "code",
   "execution_count": null,
   "id": "tamil-spotlight",
   "metadata": {},
   "outputs": [],
   "source": [
    "pipeline.cfg_tb = {\n",
    "    \"readme\": \"readme\",\n",
    "    \"cmd_line\": \"cmd_line\",\n",
    "    \"dataset\": pprint.pformat(cfg_dataset, indent=2),\n",
    "    \"model\": pprint.pformat(cfg_model, indent=2),\n",
    "    \"pipeline\": pprint.pformat(cfg_pipeline, indent=2),\n",
    "}\n",
    "print(pipeline.cfg_tb)\n",
    "\n",
    "if args.split == \"test\":\n",
    "    pipeline.run_test()\n",
    "else:\n",
    "    pipeline.run_train()"
   ]
  },
  {
   "cell_type": "code",
   "execution_count": 12,
   "id": "potential-magazine",
   "metadata": {},
   "outputs": [
    {
     "name": "stderr",
     "output_type": "stream",
     "text": [
      "INFO - 2021-03-19 02:55:26,303 - semantic_segmentation - Restored from ./logs/RandLANet_SmartLab_tf/checkpoint/ckpt-5\n",
      "INFO - 2021-03-19 02:55:26,317 - semantic_segmentation - Restored from ./logs/RandLANet_SmartLab_tf/checkpoint/ckpt-5\n",
      "INFO - 2021-03-19 02:55:26,317 - semantic_segmentation - Logging in file : ./logs/RandLANet_SmartLab_tf/log_test_2021-03-19_02:55:26.txt\n",
      "INFO - 2021-03-19 02:55:26,317 - semantic_segmentation - Started testing\n",
      "INFO - 2021-03-19 02:55:26,318 - smartlab - Found 3 pointclouds for test\n",
      "test:   0%|          | 0/3 [00:00<?, ?it/s]INFO - 2021-03-19 02:55:26,320 - semantic_segmentation - running inference\n",
      "\n",
      "  0%|          | 0/20544 [00:00<?, ?it/s]\u001b[A"
     ]
    },
    {
     "name": "stdout",
     "output_type": "stream",
     "text": [
      "{'name': 'pcd-1615483682689850000', 'path': '/home/threedee/datasets/SmartLab/test/pcd-1615483682689850000.npy', 'split': 'test'}\n"
     ]
    },
    {
     "name": "stderr",
     "output_type": "stream",
     "text": [
      "WARNING - 2021-03-19 02:55:28,278 - deprecation - From %s: %s (from %s) is deprecated and will be removed %s.\n",
      "Instructions for updating:\n",
      "%s\n",
      "\n",
      " 53%|█████▎    | 10970/20544 [00:01<00:01, 5848.95it/s]\u001b[A\n",
      "100%|██████████| 20544/20544 [00:02<00:00, 8089.20it/s] \u001b[A\n",
      "/home/threedee/repos/Open3D-ML/ml3d/tf/modules/metrics/semseg_metric.py:51: RuntimeWarning: Mean of empty slice\n",
      "  accuracies.append(np.nanmean(accuracies))\n",
      "/home/threedee/repos/Open3D-ML/ml3d/tf/modules/metrics/semseg_metric.py:87: RuntimeWarning: Mean of empty slice\n",
      "  ious.append(np.nanmean(ious))\n",
      "test:  33%|███▎      | 1/3 [00:02<00:05,  2.68s/it]INFO - 2021-03-19 02:55:28,999 - semantic_segmentation - running inference\n",
      "\n",
      "  0%|          | 0/19860 [00:00<?, ?it/s]\u001b[A"
     ]
    },
    {
     "name": "stdout",
     "output_type": "stream",
     "text": [
      "{'predict_labels': array([2, 2, 2, ..., 1, 1, 1]), 'predict_scores': array([[1.189e-02, 4.272e-02, 4.413e-02, 1.085e-02, 2.036e-02, 1.272e-02],\n",
      "       [1.189e-02, 4.272e-02, 4.413e-02, 1.085e-02, 2.036e-02, 1.272e-02],\n",
      "       [1.189e-02, 4.272e-02, 4.413e-02, 1.085e-02, 2.036e-02, 1.272e-02],\n",
      "       ...,\n",
      "       [5.722e-06, 1.426e-01, 2.980e-06, 4.768e-07, 0.000e+00, 5.960e-07],\n",
      "       [5.722e-06, 1.426e-01, 2.980e-06, 4.768e-07, 0.000e+00, 5.960e-07],\n",
      "       [5.722e-06, 1.426e-01, 2.980e-06, 4.768e-07, 0.000e+00, 5.960e-07]],\n",
      "      dtype=float16)}\n",
      "tf.Tensor([], shape=(0, 6), dtype=float16)\n",
      "tf.Tensor([], shape=(0,), dtype=int32)\n",
      "[nan, nan, nan, nan, nan, nan, nan]\n",
      "[nan, nan, nan, nan, nan, nan, nan]\n",
      "{'name': 'pcd-1615483693023335000', 'path': '/home/threedee/datasets/SmartLab/test/pcd-1615483693023335000.npy', 'split': 'test'}\n"
     ]
    },
    {
     "name": "stderr",
     "output_type": "stream",
     "text": [
      "\n",
      " 48%|████▊     | 9533/19860 [00:00<00:00, 28121.38it/s]\u001b[A\n",
      "100%|██████████| 19860/19860 [00:01<00:00, 19243.09it/s]\u001b[A\n",
      "/home/threedee/repos/Open3D-ML/ml3d/tf/modules/metrics/semseg_metric.py:51: RuntimeWarning: Mean of empty slice\n",
      "  accuracies.append(np.nanmean(accuracies))\n",
      "/home/threedee/repos/Open3D-ML/ml3d/tf/modules/metrics/semseg_metric.py:87: RuntimeWarning: Mean of empty slice\n",
      "  ious.append(np.nanmean(ious))\n",
      "test:  67%|██████▋   | 2/3 [00:03<00:01,  1.77s/it]INFO - 2021-03-19 02:55:30,127 - semantic_segmentation - running inference\n",
      "\n",
      "  0%|          | 0/20256 [00:00<?, ?it/s]\u001b[A"
     ]
    },
    {
     "name": "stdout",
     "output_type": "stream",
     "text": [
      "{'predict_labels': array([1, 1, 1, ..., 1, 1, 1]), 'predict_scores': array([[1.313e-02, 4.752e-02, 4.144e-02, 1.126e-02, 1.651e-02, 1.278e-02],\n",
      "       [1.313e-02, 4.752e-02, 4.144e-02, 1.126e-02, 1.651e-02, 1.278e-02],\n",
      "       [1.313e-02, 4.752e-02, 4.144e-02, 1.126e-02, 1.651e-02, 1.278e-02],\n",
      "       ...,\n",
      "       [6.139e-06, 1.426e-01, 3.040e-06, 5.364e-07, 0.000e+00, 5.960e-07],\n",
      "       [6.139e-06, 1.426e-01, 3.040e-06, 5.364e-07, 0.000e+00, 5.960e-07],\n",
      "       [6.139e-06, 1.426e-01, 3.040e-06, 5.364e-07, 0.000e+00, 5.960e-07]],\n",
      "      dtype=float16)}\n",
      "tf.Tensor([], shape=(0, 6), dtype=float16)\n",
      "tf.Tensor([], shape=(0,), dtype=int32)\n",
      "[nan, nan, nan, nan, nan, nan, nan]\n",
      "[nan, nan, nan, nan, nan, nan, nan]\n",
      "{'name': 'pcd-1615483692023160000', 'path': '/home/threedee/datasets/SmartLab/test/pcd-1615483692023160000.npy', 'split': 'test'}\n"
     ]
    },
    {
     "name": "stderr",
     "output_type": "stream",
     "text": [
      "\n",
      " 46%|████▌     | 9323/20256 [00:00<00:00, 28692.09it/s]\u001b[A\n",
      "100%|██████████| 20256/20256 [00:01<00:00, 20215.99it/s]\u001b[A\n",
      "/home/threedee/repos/Open3D-ML/ml3d/tf/modules/metrics/semseg_metric.py:51: RuntimeWarning: Mean of empty slice\n",
      "  accuracies.append(np.nanmean(accuracies))\n",
      "/home/threedee/repos/Open3D-ML/ml3d/tf/modules/metrics/semseg_metric.py:87: RuntimeWarning: Mean of empty slice\n",
      "  ious.append(np.nanmean(ious))\n",
      "test: 100%|██████████| 3/3 [00:04<00:00,  1.64s/it]\n",
      "/home/threedee/repos/Open3D-ML/ml3d/tf/pipelines/semantic_segmentation.py:189: RuntimeWarning: Mean of empty slice\n",
      "  accs = np.nanmean(np.array(accs), axis=0)\n",
      "/home/threedee/repos/Open3D-ML/ml3d/tf/pipelines/semantic_segmentation.py:190: RuntimeWarning: Mean of empty slice\n",
      "  ious = np.nanmean(np.array(ious), axis=0)\n",
      "INFO - 2021-03-19 02:55:31,228 - semantic_segmentation - Per class Accuracy : [nan nan nan nan nan nan]\n",
      "INFO - 2021-03-19 02:55:31,229 - semantic_segmentation - Per class IOUs : [nan nan nan nan nan nan]\n",
      "INFO - 2021-03-19 02:55:31,229 - semantic_segmentation - Overall Accuracy : nan\n",
      "INFO - 2021-03-19 02:55:31,230 - semantic_segmentation - Overall IOU : nan\n"
     ]
    },
    {
     "name": "stdout",
     "output_type": "stream",
     "text": [
      "{'predict_labels': array([2, 2, 2, ..., 1, 1, 1]), 'predict_scores': array([[7.061e-03, 4.382e-02, 5.722e-02, 8.255e-03, 1.643e-02, 9.827e-03],\n",
      "       [7.061e-03, 4.382e-02, 5.722e-02, 8.255e-03, 1.643e-02, 9.827e-03],\n",
      "       [7.061e-03, 4.382e-02, 5.722e-02, 8.255e-03, 1.643e-02, 9.827e-03],\n",
      "       ...,\n",
      "       [7.033e-06, 1.426e-01, 3.517e-06, 5.960e-07, 5.960e-08, 7.153e-07],\n",
      "       [7.033e-06, 1.426e-01, 3.517e-06, 5.960e-07, 5.960e-08, 7.153e-07],\n",
      "       [7.033e-06, 1.426e-01, 3.517e-06, 5.960e-07, 5.960e-08, 7.153e-07]],\n",
      "      dtype=float16)}\n",
      "tf.Tensor([], shape=(0, 6), dtype=float16)\n",
      "tf.Tensor([], shape=(0,), dtype=int32)\n",
      "[nan, nan, nan, nan, nan, nan, nan]\n",
      "[nan, nan, nan, nan, nan, nan, nan]\n"
     ]
    }
   ],
   "source": [
    "ckpt_path = \"./logs/RandLANet_SmartLab_tf/checkpoint/ckpt-5\"\n",
    "\n",
    "pipeline.load_ckpt(ckpt_path=ckpt_path)\n",
    "\n",
    "pipeline.run_test()\n",
    "\n"
   ]
  },
  {
   "cell_type": "code",
   "execution_count": 19,
   "id": "retained-homework",
   "metadata": {},
   "outputs": [
    {
     "name": "stderr",
     "output_type": "stream",
     "text": [
      "INFO - 2021-03-19 03:01:46,284 - smartlab - Found 3 pointclouds for test\n",
      "INFO - 2021-03-19 03:01:46,285 - semantic_segmentation - running inference\n",
      "  0%|          | 0/20256 [00:00<?, ?it/s]"
     ]
    },
    {
     "name": "stdout",
     "output_type": "stream",
     "text": [
      "{'name': 'pcd-1615483692023160000', 'path': '/home/threedee/datasets/SmartLab/test/pcd-1615483692023160000.npy', 'split': 'test'}\n"
     ]
    },
    {
     "name": "stderr",
     "output_type": "stream",
     "text": [
      "100%|██████████| 20256/20256 [00:00<00:00, 20408.72it/s]"
     ]
    },
    {
     "name": "stdout",
     "output_type": "stream",
     "text": [
      "array([1, 1, 1, ..., 1, 1, 1])\n",
      "array([[1.338e-02, 4.761e-02, 4.391e-02, 1.097e-02, 1.485e-02, 1.195e-02],\n",
      "       [1.338e-02, 4.761e-02, 4.391e-02, 1.097e-02, 1.485e-02, 1.195e-02],\n",
      "       [1.338e-02, 4.761e-02, 4.391e-02, 1.097e-02, 1.485e-02, 1.195e-02],\n",
      "       ...,\n",
      "       [6.020e-06, 1.426e-01, 2.980e-06, 5.364e-07, 0.000e+00, 5.960e-07],\n",
      "       [6.020e-06, 1.426e-01, 2.980e-06, 5.364e-07, 0.000e+00, 5.960e-07],\n",
      "       [6.020e-06, 1.426e-01, 2.980e-06, 5.364e-07, 0.000e+00, 5.960e-07]],\n",
      "      dtype=float16)\n"
     ]
    },
    {
     "name": "stderr",
     "output_type": "stream",
     "text": [
      "\n"
     ]
    }
   ],
   "source": [
    "test_split = dataset.get_split(\"test\")\n",
    "data = test_split.get_data(0)\n",
    "attr = test_split.get_attr(0)\n",
    "print(attr)\n",
    "\n",
    "results = pipeline.run_inference(data)\n",
    "\n",
    "pprint.pprint(results['predict_labels'])\n",
    "pprint.pprint(results['predict_scores'])"
   ]
  },
  {
   "cell_type": "code",
   "execution_count": null,
   "id": "aware-reader",
   "metadata": {},
   "outputs": [],
   "source": []
  }
 ],
 "metadata": {
  "kernelspec": {
   "display_name": "Python 3",
   "language": "python",
   "name": "python3"
  },
  "language_info": {
   "codemirror_mode": {
    "name": "ipython",
    "version": 3
   },
   "file_extension": ".py",
   "mimetype": "text/x-python",
   "name": "python",
   "nbconvert_exporter": "python",
   "pygments_lexer": "ipython3",
   "version": "3.8.8"
  }
 },
 "nbformat": 4,
 "nbformat_minor": 5
}
