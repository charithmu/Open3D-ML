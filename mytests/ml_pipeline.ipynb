{
 "cells": [
  {
   "cell_type": "code",
   "execution_count": 2,
   "id": "northern-runner",
   "metadata": {},
   "outputs": [
    {
     "name": "stdout",
     "output_type": "stream",
     "text": [
      "Using external Open3D-ML in /home/threedee/repos/Open3D-ML\n"
     ]
    }
   ],
   "source": [
    "import argparse\n",
    "import copy\n",
    "import os\n",
    "import os.path as osp\n",
    "import pprint \n",
    "import sys\n",
    "import time\n",
    "from pathlib import Path\n",
    "\n",
    "import open3d.ml as _ml3d\n",
    "import yaml"
   ]
  },
  {
   "cell_type": "code",
   "execution_count": 3,
   "id": "incomplete-infrastructure",
   "metadata": {},
   "outputs": [
    {
     "name": "stdout",
     "output_type": "stream",
     "text": [
      "{'cfg_file': '/home/threedee/repos/Open3D-ML/ml3d/configs/randlanet_smartlab.yml',\n",
      " 'ckpt_path': './logs/RandLANet_SmartLab_tf/checkpoint/ckpt-5',\n",
      " 'dataset_path': '/home/threedee/datasets/SmartLab',\n",
      " 'device': 'cuda',\n",
      " 'framework': 'tf',\n",
      " 'split': 'test'}\n"
     ]
    }
   ],
   "source": [
    "basedir = \"/home/threedee/repos/Open3D-ML\"\n",
    "datesetbase = \"/home/threedee/datasets\"\n",
    "\n",
    "randlanet_smartlab_cfg = basedir + \"/ml3d/configs/randlanet_smartlab.yml\"\n",
    "randlanet_semantickitti_cfg = basedir +\"/ml3d/configs/randlanet_semantickitti.yml\"\n",
    "randlanet_s3dis_cfg = basedir + \"/ml3d/configs/randlanet_s3dis.yml\"\n",
    "\n",
    "ckpt_path = basedir + \"/mytests/logs/RandLANet_SmartLab_tf/checkpoint/ckpt-5\"\n",
    "\n",
    "kwargs = {\n",
    "    \"framework\": \"tf\",\n",
    "    \"device\": \"cuda\",\n",
    "    \"dataset_path\": datesetbase + \"/SmartLab\",\n",
    "    \"split\": \"test\",\n",
    "    \"ckpt_path\": ckpt_path,\n",
    "    \"cfg_file\": randlanet_smartlab_cfg,\n",
    "}\n",
    "\n",
    "args = type(\"args\", (object,), kwargs)()\n",
    "\n",
    "pprint.pprint(kwargs)"
   ]
  },
  {
   "cell_type": "code",
   "execution_count": 4,
   "id": "adjacent-anchor",
   "metadata": {},
   "outputs": [
    {
     "name": "stdout",
     "output_type": "stream",
     "text": [
      "[PhysicalDevice(name='/physical_device:GPU:0', device_type='GPU')]\n"
     ]
    }
   ],
   "source": [
    "if args.framework == \"torch\":\n",
    "    import open3d.ml.torch as ml3d\n",
    "else:\n",
    "    import open3d.ml.tf as ml3d\n",
    "    import tensorflow as tf\n",
    "\n",
    "def merge_cfg_file(cfg, args, extra_dict):\n",
    "    if args.device is not None:\n",
    "        cfg.pipeline.device = args.device\n",
    "        cfg.model.device = args.device\n",
    "    if args.split is not None:\n",
    "        cfg.pipeline.split = args.split\n",
    "    if args.dataset_path is not None:\n",
    "        cfg.dataset.dataset_path = args.dataset_path\n",
    "    if args.ckpt_path is not None:\n",
    "        cfg.model.ckpt_path = args.ckpt_path\n",
    "\n",
    "    return cfg.dataset, cfg.pipeline, cfg.model\n",
    "\n",
    "device = args.device\n",
    "gpus = tf.config.experimental.list_physical_devices(\"GPU\")\n",
    "print(gpus)\n",
    "if gpus:\n",
    "    try:\n",
    "        for gpu in gpus:\n",
    "            tf.config.experimental.set_memory_growth(gpu, True)\n",
    "        if device == \"cpu\":\n",
    "            tf.config.set_visible_devices([], \"GPU\")\n",
    "        elif device == \"cuda\":\n",
    "            tf.config.set_visible_devices(gpus[0], \"GPU\")\n",
    "        else:\n",
    "            idx = device.split(\":\")[1]\n",
    "            tf.config.set_visible_devices(gpus[int(idx)], \"GPU\")\n",
    "    except RuntimeError as e:\n",
    "        print(e)"
   ]
  },
  {
   "cell_type": "code",
   "execution_count": 5,
   "id": "meaning-calvin",
   "metadata": {},
   "outputs": [],
   "source": [
    "cfg = _ml3d.utils.Config.load_from_file(args.cfg_file)\n",
    "\n",
    "Pipeline = _ml3d.utils.get_module(\"pipeline\", cfg.pipeline.name, args.framework)\n",
    "Model = _ml3d.utils.get_module(\"model\", cfg.model.name, args.framework)\n",
    "Dataset = _ml3d.utils.get_module(\"dataset\", cfg.dataset.name)\n",
    "\n",
    "cfg_dataset, cfg_pipeline, cfg_model = merge_cfg_file(cfg, args, None)\n",
    "\n",
    "dataset = Dataset(**cfg_dataset)\n",
    "model = Model(**cfg_model)\n",
    "pipeline = Pipeline(model, dataset, **cfg_pipeline)"
   ]
  },
  {
   "cell_type": "code",
   "execution_count": 6,
   "id": "early-mineral",
   "metadata": {},
   "outputs": [],
   "source": [
    "# show the first 100 frames using the visualizer\n",
    "# vis = ml3d.vis.Visualizer()\n",
    "# vis.visualize_dataset(dataset, \"training\")  # , indices=range(100)"
   ]
  },
  {
   "cell_type": "code",
   "execution_count": null,
   "id": "purple-belgium",
   "metadata": {},
   "outputs": [],
   "source": [
    "pipeline.cfg_tb = {\n",
    "    \"readme\": \"readme\",\n",
    "    \"cmd_line\": \"cmd_line\",\n",
    "    \"dataset\": pprint.pformat(cfg_dataset, indent=2),\n",
    "    \"model\": pprint.pformat(cfg_model, indent=2),\n",
    "    \"pipeline\": pprint.pformat(cfg_pipeline, indent=2),\n",
    "}\n",
    "print(pipeline.cfg_tb)\n",
    "\n",
    "if args.split == \"test\":\n",
    "    pipeline.run_test()\n",
    "else:\n",
    "    pipeline.run_train()"
   ]
  },
  {
   "cell_type": "code",
   "execution_count": null,
   "id": "hydraulic-hunger",
   "metadata": {},
   "outputs": [],
   "source": [
    "# pipeline.load_ckpt(ckpt_path=ckpt_path)\n",
    "\n",
    "# pipeline.run_test()"
   ]
  },
  {
   "cell_type": "code",
   "execution_count": null,
   "id": "inner-possession",
   "metadata": {},
   "outputs": [],
   "source": [
    "test_split = dataset.get_split(\"test\")\n",
    "data = test_split.get_data(0)\n",
    "attr = test_split.get_attr(0)\n",
    "print(attr)\n",
    "\n",
    "results = pipeline.run_inference(data)\n",
    "\n",
    "labels = results['predict_labels']\n",
    "scores = results['predict_scores']\n",
    "\n",
    "import pandas as pd\n",
    "\n",
    "# pprint.pprint(labels)\n",
    "\n",
    "dfl = pd.DataFrame(labels)\n",
    "pprint.pprint(dfl.describe())\n",
    "\n",
    "# pprint.pprint(scores)\n",
    "\n",
    "dfs = pd.DataFrame(scores)\n",
    "pprint.pprint(dfs.describe())"
   ]
  },
  {
   "cell_type": "code",
   "execution_count": null,
   "id": "crazy-above",
   "metadata": {},
   "outputs": [],
   "source": []
  }
 ],
 "metadata": {
  "kernelspec": {
   "display_name": "Python 3",
   "language": "python",
   "name": "python3"
  },
  "language_info": {
   "codemirror_mode": {
    "name": "ipython",
    "version": 3
   },
   "file_extension": ".py",
   "mimetype": "text/x-python",
   "name": "python",
   "nbconvert_exporter": "python",
   "pygments_lexer": "ipython3",
   "version": "3.8.8"
  }
 },
 "nbformat": 4,
 "nbformat_minor": 5
}
