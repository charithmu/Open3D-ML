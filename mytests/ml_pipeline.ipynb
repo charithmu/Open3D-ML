{
 "cells": [
  {
   "cell_type": "code",
   "execution_count": 1,
   "id": "unauthorized-williams",
   "metadata": {},
   "outputs": [
    {
     "name": "stdout",
     "output_type": "stream",
     "text": [
      "Using external Open3D-ML in /home/lidar/dev/Open3D-ML\n",
      "{'cfg_file': '/home/lidar/dev/Open3D-ML/ml3d/configs/randlanet_smartlab.yml',\n",
      " 'ckpt_path': '/home/lidar/dev/Open3D-ML/mytests/logs/RandLANet_SmartLab_tf/checkpoint/ckpt-6',\n",
      " 'dataset_path': '/home/lidar/datasets/SmartLab',\n",
      " 'device': 'cuda',\n",
      " 'framework': 'tf',\n",
      " 'split': 'test'}\n"
     ]
    }
   ],
   "source": [
    "import argparse\n",
    "import copy\n",
    "import os\n",
    "import os.path as osp\n",
    "import pprint\n",
    "import sys\n",
    "import time\n",
    "from pathlib import Path\n",
    "\n",
    "import numpy as np\n",
    "import pandas as pd\n",
    "import yaml\n",
    "from tqdm import tqdm\n",
    "\n",
    "homedir = str(Path.home())\n",
    "\n",
    "basedir = homedir + \"/dev/Open3D-ML\"\n",
    "datesetbase = homedir + \"/datasets\"\n",
    "\n",
    "os.environ[\"OPEN3D_ML_ROOT\"] = basedir\n",
    "\n",
    "import open3d.ml as _ml3d\n",
    "\n",
    "randlanet_semantickitti_cfg = basedir + \"/ml3d/configs/randlanet_semantickitti.yml\"\n",
    "randlanet_s3dis_cfg = basedir + \"/ml3d/configs/randlanet_s3dis.yml\"\n",
    "\n",
    "randlanet_smartlab_cfg = basedir + \"/ml3d/configs/randlanet_smartlab.yml\"\n",
    "kpconv_smartlab_cfg = basedir + \"/ml3d/configs/kpconv_smartlab.yml\"\n",
    "\n",
    "# checkpoints\n",
    "smartlab1 = basedir + \"/mytests/logs/RandLANet_SmartLab_tf/checkpoint/ckpt-6\"\n",
    "\n",
    "s3dis1 = basedir + \"/final-chechpoints/randlanet_s3dis_tf/checkpoint/ckpt-91\"\n",
    "s3dis2 = basedir + \"/final-checkpoints/RandLANet_S3DIS_tf/checkpoint/ckpt-6\"\n",
    "\n",
    "\n",
    "kwargs = {\n",
    "    \"framework\": \"tf\",\n",
    "    \"device\": \"cuda\",\n",
    "    \"dataset_path\": datesetbase + \"/SmartLab\",\n",
    "    \"split\": \"test\",\n",
    "    \"ckpt_path\": smartlab1,\n",
    "    \"cfg_file\": randlanet_smartlab_cfg,\n",
    "}\n",
    "\n",
    "args = type(\"args\", (object,), kwargs)()\n",
    "\n",
    "pprint.pprint(kwargs)"
   ]
  },
  {
   "cell_type": "code",
   "execution_count": 2,
   "id": "divine-facial",
   "metadata": {},
   "outputs": [
    {
     "name": "stdout",
     "output_type": "stream",
     "text": [
      "[PhysicalDevice(name='/physical_device:GPU:0', device_type='GPU'), PhysicalDevice(name='/physical_device:GPU:1', device_type='GPU'), PhysicalDevice(name='/physical_device:GPU:2', device_type='GPU')]\n"
     ]
    }
   ],
   "source": [
    "if args.framework == \"torch\":\n",
    "    import open3d.ml.torch as ml3d\n",
    "else:\n",
    "    import open3d.ml.tf as ml3d\n",
    "    import tensorflow as tf\n",
    "\n",
    "\n",
    "def merge_cfg_file(cfg, args, extra_dict):\n",
    "    if args.device is not None:\n",
    "        cfg.pipeline.device = args.device\n",
    "        cfg.model.device = args.device\n",
    "    if args.split is not None:\n",
    "        cfg.pipeline.split = args.split\n",
    "    if args.dataset_path is not None:\n",
    "        cfg.dataset.dataset_path = args.dataset_path\n",
    "    if args.ckpt_path is not None:\n",
    "        cfg.model.ckpt_path = args.ckpt_path\n",
    "\n",
    "    return cfg.dataset, cfg.pipeline, cfg.model\n",
    "\n",
    "\n",
    "device = args.device\n",
    "gpus = tf.config.experimental.list_physical_devices(\"GPU\")\n",
    "print(gpus)\n",
    "\n",
    "if gpus:\n",
    "    try:\n",
    "        for gpu in gpus:\n",
    "            tf.config.experimental.set_memory_growth(gpu, True)\n",
    "        if device == \"cpu\":\n",
    "            tf.config.set_visible_devices([], \"GPU\")\n",
    "        elif device == \"cuda\":\n",
    "            tf.config.set_visible_devices(gpus[0], \"GPU\")\n",
    "        else:\n",
    "            idx = device.split(\":\")[1]\n",
    "            tf.config.set_visible_devices(gpus[int(idx)], \"GPU\")\n",
    "    except RuntimeError as e:\n",
    "        print(e)\n",
    "\n",
    "cfg = _ml3d.utils.Config.load_from_file(args.cfg_file)\n",
    "\n",
    "cfg.dataset[\"dataset_path\"] = args.dataset_path\n",
    "\n",
    "Pipeline = _ml3d.utils.get_module(\"pipeline\", cfg.pipeline.name, args.framework)\n",
    "Model = _ml3d.utils.get_module(\"model\", cfg.model.name, args.framework)\n",
    "Dataset = _ml3d.utils.get_module(\"dataset\", cfg.dataset.name)\n",
    "\n",
    "cfg_dataset, cfg_pipeline, cfg_model = merge_cfg_file(cfg, args, None)\n",
    "\n",
    "dataset = Dataset(**cfg_dataset)\n",
    "model = Model(**cfg_model)\n",
    "pipeline = Pipeline(model, dataset, **cfg_pipeline)\n",
    "\n",
    "Unlabeled = [231, 87, 36]\n",
    "Floor = [188, 169, 26]\n",
    "Wall = [100, 244, 245]\n",
    "Robot = [150, 30, 140]\n",
    "Human = [0, 248, 26]\n",
    "AGV = [18, 35, 243]\n",
    "\n",
    "colors = {\n",
    "    \"Unlabeled\": [x / 255.0 for x in Unlabeled],\n",
    "    \"Floor\": [x / 255.0 for x in Floor],\n",
    "    \"Wall\": [x / 255.0 for x in Wall],\n",
    "    \"Robot\": [x / 255.0 for x in Robot],\n",
    "    \"Human\": [x / 255.0 for x in Human],\n",
    "    \"AGV\": [x / 255.0 for x in AGV],\n",
    "}"
   ]
  },
  {
   "cell_type": "code",
   "execution_count": null,
   "id": "spectacular-stock",
   "metadata": {},
   "outputs": [],
   "source": [
    "vis = ml3d.vis.Visualizer()\n",
    "lut = ml3d.vis.LabelLUT()\n",
    "\n",
    "pprint.pprint(colors)\n",
    "i = 0\n",
    "for key, val in colors.items():\n",
    "    lut.add_label(key, i, val)\n",
    "    i = i + 1\n",
    "\n",
    "# vis.visualize_dataset(dataset, \"train\", width=2100, height=1600)  # , indices=range(100)\n",
    "vis.visualize_dataset(dataset, \"train\", lut, width=2100, height=1600)  # , indices=range(100)"
   ]
  },
  {
   "cell_type": "code",
   "execution_count": 3,
   "id": "statutory-enlargement",
   "metadata": {
    "scrolled": true,
    "tags": []
   },
   "outputs": [
    {
     "name": "stderr",
     "output_type": "stream",
     "text": [
      "INFO - 2021-03-26 22:54:20,854 - semantic_segmentation - Restored from /home/lidar/dev/Open3D-ML/mytests/logs/RandLANet_SmartLab_tf/checkpoint/ckpt-6\n",
      "INFO - 2021-03-26 22:54:20,855 - semantic_segmentation - Logging in file : logs/RandLANet_SmartLab_tf/log_test_2021-03-26_22:54:20.txt\n",
      "INFO - 2021-03-26 22:54:20,856 - semantic_segmentation - Started testing\n",
      "INFO - 2021-03-26 22:54:20,857 - smartlab - Found 22 pointclouds for test\n",
      "test:   0%|          | 0/22 [00:00<?, ?it/s]INFO - 2021-03-26 22:54:20,861 - semantic_segmentation - running inference\n",
      "\n",
      "  0%|          | 0/20596 [00:00<?, ?it/s]\u001b[AWARNING - 2021-03-26 22:54:23,642 - deprecation - From %s: %s (from %s) is deprecated and will be removed %s.\n",
      "Instructions for updating:\n",
      "%s\n",
      "\n",
      " 60%|██████    | 12417/20596 [00:02<00:01, 4469.52it/s]\u001b[A\n",
      "100%|██████████| 20596/20596 [00:03<00:00, 5293.16it/s]\u001b[A\n",
      "test:   5%|▍         | 1/22 [00:04<01:24,  4.02s/it]INFO - 2021-03-26 22:54:24,882 - semantic_segmentation - running inference\n",
      "\n",
      "  0%|          | 0/20228 [00:00<?, ?it/s]\u001b[A\n",
      " 51%|█████     | 10349/20228 [00:00<00:00, 18983.47it/s]\u001b[A\n",
      "100%|██████████| 20228/20228 [00:01<00:00, 17686.69it/s]\u001b[A\n",
      "test:   9%|▉         | 2/22 [00:05<00:47,  2.40s/it]INFO - 2021-03-26 22:54:26,144 - semantic_segmentation - running inference\n",
      "\n",
      "  0%|          | 0/20529 [00:00<?, ?it/s]\u001b[A\n",
      " 48%|████▊     | 9944/20529 [00:00<00:00, 18096.66it/s]\u001b[A\n",
      "100%|██████████| 20529/20529 [00:01<00:00, 17756.82it/s]\u001b[A\n",
      "test:  14%|█▎        | 3/22 [00:06<00:35,  1.88s/it]INFO - 2021-03-26 22:54:27,418 - semantic_segmentation - running inference\n",
      "\n",
      "  0%|          | 0/20285 [00:00<?, ?it/s]\u001b[A\n",
      " 47%|████▋     | 9628/20285 [00:00<00:00, 19043.34it/s]\u001b[A\n",
      " 90%|█████████ | 18354/20285 [00:01<00:00, 15622.37it/s]\u001b[A\n",
      "100%|██████████| 20285/20285 [00:01<00:00, 11558.97it/s]\u001b[A\n",
      "test:  18%|█▊        | 4/22 [00:08<00:33,  1.88s/it]INFO - 2021-03-26 22:54:29,295 - semantic_segmentation - running inference\n",
      "\n",
      "  0%|          | 0/19824 [00:00<?, ?it/s]\u001b[A\n",
      " 54%|█████▍    | 10803/19824 [00:00<00:00, 20526.82it/s]\u001b[A\n",
      "100%|██████████| 19824/19824 [00:01<00:00, 10551.14it/s]\u001b[A\n",
      "test:  23%|██▎       | 5/22 [00:10<00:32,  1.93s/it]INFO - 2021-03-26 22:54:31,306 - semantic_segmentation - running inference\n",
      "\n",
      "  0%|          | 0/20223 [00:00<?, ?it/s]\u001b[A\n",
      " 55%|█████▍    | 11097/20223 [00:00<00:00, 13358.40it/s]\u001b[A\n",
      "100%|██████████| 20223/20223 [00:02<00:00, 7534.87it/s] \u001b[A\n",
      "test:  27%|██▋       | 6/22 [00:13<00:35,  2.23s/it]INFO - 2021-03-26 22:54:34,110 - semantic_segmentation - running inference\n",
      "\n",
      "  0%|          | 0/20495 [00:00<?, ?it/s]\u001b[A\n",
      " 54%|█████▍    | 11148/20495 [00:00<00:00, 19879.08it/s]\u001b[A\n",
      "100%|██████████| 20495/20495 [00:01<00:00, 12225.02it/s]\u001b[A\n",
      "test:  32%|███▏      | 7/22 [00:15<00:31,  2.09s/it]INFO - 2021-03-26 22:54:35,912 - semantic_segmentation - running inference\n",
      "\n",
      "  0%|          | 0/21127 [00:00<?, ?it/s]\u001b[A\n",
      " 45%|████▍     | 9457/21127 [00:00<00:00, 12885.03it/s]\u001b[A\n",
      "100%|██████████| 21127/21127 [00:01<00:00, 10700.97it/s]\u001b[A\n",
      "test:  36%|███▋      | 8/22 [00:17<00:29,  2.09s/it]INFO - 2021-03-26 22:54:38,012 - semantic_segmentation - running inference\n",
      "\n",
      "  0%|          | 0/20169 [00:00<?, ?it/s]\u001b[A\n",
      " 46%|████▌     | 9244/20169 [00:00<00:00, 12752.55it/s]\u001b[A\n",
      "100%|██████████| 20169/20169 [00:01<00:00, 10977.17it/s]\u001b[A\n",
      "test:  41%|████      | 9/22 [00:19<00:26,  2.05s/it]INFO - 2021-03-26 22:54:39,973 - semantic_segmentation - running inference\n",
      "\n",
      "  0%|          | 0/21011 [00:00<?, ?it/s]\u001b[A\n",
      " 55%|█████▌    | 11587/21011 [00:00<00:00, 14845.12it/s]\u001b[A\n",
      "100%|██████████| 21011/21011 [00:01<00:00, 11436.36it/s]\u001b[A\n",
      "test:  45%|████▌     | 10/22 [00:21<00:24,  2.02s/it]INFO - 2021-03-26 22:54:41,934 - semantic_segmentation - running inference\n",
      "\n",
      "  0%|          | 0/20259 [00:00<?, ?it/s]\u001b[A\n",
      " 49%|████▉     | 10020/20259 [00:00<00:00, 15637.15it/s]\u001b[A\n",
      " 94%|█████████▎| 18977/20259 [00:01<00:00, 9921.02it/s] \u001b[A\n",
      "100%|██████████| 20259/20259 [00:03<00:00, 6487.07it/s]\u001b[A\n",
      "test:  50%|█████     | 11/22 [00:24<00:26,  2.41s/it]INFO - 2021-03-26 22:54:45,214 - semantic_segmentation - running inference\n",
      "\n",
      "  0%|          | 0/20708 [00:00<?, ?it/s]\u001b[A\n",
      " 57%|█████▋    | 11745/20708 [00:01<00:01, 8784.11it/s]\u001b[A\n",
      "100%|██████████| 20708/20708 [00:02<00:00, 7647.45it/s]\u001b[A\n",
      "test:  55%|█████▍    | 12/22 [00:27<00:25,  2.53s/it]INFO - 2021-03-26 22:54:48,038 - semantic_segmentation - running inference\n",
      "\n",
      "  0%|          | 0/20292 [00:00<?, ?it/s]\u001b[A\n",
      " 51%|█████▏    | 10404/20292 [00:00<00:00, 17168.51it/s]\u001b[A\n",
      "100%|██████████| 20292/20292 [00:02<00:00, 10135.55it/s]\u001b[A\n",
      "test:  59%|█████▉    | 13/22 [00:29<00:21,  2.42s/it]INFO - 2021-03-26 22:54:50,191 - semantic_segmentation - running inference\n",
      "\n",
      "  0%|          | 0/20292 [00:00<?, ?it/s]\u001b[A\n",
      " 56%|█████▌    | 11361/20292 [00:01<00:01, 8791.46it/s]\u001b[A\n",
      "100%|██████████| 20292/20292 [00:02<00:00, 7718.25it/s]\u001b[A\n",
      "test:  64%|██████▎   | 14/22 [00:32<00:20,  2.52s/it]INFO - 2021-03-26 22:54:52,956 - semantic_segmentation - running inference\n",
      "\n",
      "  0%|          | 0/20319 [00:00<?, ?it/s]\u001b[A\n",
      " 62%|██████▏   | 12696/20319 [00:00<00:00, 14434.52it/s]\u001b[A\n",
      "100%|██████████| 20319/20319 [00:01<00:00, 11471.21it/s]\u001b[A\n",
      "test:  68%|██████▊   | 15/22 [00:34<00:16,  2.34s/it]INFO - 2021-03-26 22:54:54,861 - semantic_segmentation - running inference\n",
      "\n",
      "  0%|          | 0/20417 [00:00<?, ?it/s]\u001b[A\n",
      " 55%|█████▍    | 11131/20417 [00:00<00:00, 19277.86it/s]\u001b[A\n",
      "100%|██████████| 20417/20417 [00:01<00:00, 15581.53it/s]\u001b[A\n",
      "test:  73%|███████▎  | 16/22 [00:35<00:12,  2.07s/it]INFO - 2021-03-26 22:54:56,302 - semantic_segmentation - running inference\n",
      "\n",
      "  0%|          | 0/20131 [00:00<?, ?it/s]\u001b[A\n",
      " 60%|█████▉    | 12017/20131 [00:00<00:00, 19858.80it/s]\u001b[A\n",
      "100%|██████████| 20131/20131 [00:01<00:00, 17016.95it/s]\u001b[A\n",
      "test:  77%|███████▋  | 17/22 [00:36<00:09,  1.84s/it]INFO - 2021-03-26 22:54:57,602 - semantic_segmentation - running inference\n",
      "\n",
      "  0%|          | 0/20885 [00:00<?, ?it/s]\u001b[A\n",
      " 53%|█████▎    | 10982/20885 [00:00<00:00, 12167.45it/s]\u001b[A\n",
      "100%|██████████| 20885/20885 [00:02<00:00, 9675.56it/s] \u001b[A\n",
      "test:  82%|████████▏ | 18/22 [00:39<00:07,  1.97s/it]INFO - 2021-03-26 22:54:59,872 - semantic_segmentation - running inference\n",
      "\n",
      "  0%|          | 0/19793 [00:00<?, ?it/s]\u001b[A\n",
      " 51%|█████▏    | 10180/19793 [00:00<00:00, 17984.74it/s]\u001b[A\n",
      "100%|██████████| 19793/19793 [00:02<00:00, 9305.47it/s] \u001b[A\n",
      "test:  86%|████████▋ | 19/22 [00:41<00:06,  2.05s/it]INFO - 2021-03-26 22:55:02,110 - semantic_segmentation - running inference\n",
      "\n",
      "  0%|          | 0/20362 [00:00<?, ?it/s]\u001b[A\n",
      " 42%|████▏     | 8609/20362 [00:00<00:01, 10185.68it/s]\u001b[A\n",
      "100%|██████████| 20362/20362 [00:02<00:00, 8566.37it/s] \u001b[A\n",
      "test:  91%|█████████ | 20/22 [00:43<00:04,  2.19s/it]INFO - 2021-03-26 22:55:04,634 - semantic_segmentation - running inference\n",
      "\n",
      "  0%|          | 0/20892 [00:00<?, ?it/s]\u001b[A\n",
      " 51%|█████     | 10622/20892 [00:00<00:00, 18642.92it/s]\u001b[A\n",
      "100%|██████████| 20892/20892 [00:02<00:00, 7586.79it/s] \u001b[A\n",
      "test:  95%|█████████▌| 21/22 [00:46<00:02,  2.40s/it]INFO - 2021-03-26 22:55:07,505 - semantic_segmentation - running inference\n",
      "\n",
      "  0%|          | 0/20312 [00:00<?, ?it/s]\u001b[A\n",
      " 57%|█████▋    | 11489/20312 [00:00<00:00, 14081.61it/s]\u001b[A\n",
      "100%|██████████| 20312/20312 [00:01<00:00, 12035.12it/s]\u001b[A\n",
      "test: 100%|██████████| 22/22 [00:48<00:00,  2.20s/it]\n",
      "INFO - 2021-03-26 22:55:09,320 - semantic_segmentation - Per class Accuracy : [0.97070183 0.98299079 0.98250706 0.97965845 0.90773874 0.97394604]\n",
      "INFO - 2021-03-26 22:55:09,322 - semantic_segmentation - Per class IOUs : [0.96115279 0.930554   0.96041446 0.91224998 0.89551562 0.94696558]\n",
      "INFO - 2021-03-26 22:55:09,323 - semantic_segmentation - Overall Accuracy : 0.971\n",
      "INFO - 2021-03-26 22:55:09,323 - semantic_segmentation - Overall IOU : 0.937\n"
     ]
    },
    {
     "name": "stdout",
     "output_type": "stream",
     "text": [
      "[0.97070183 0.98299079 0.98250706 0.97965845 0.90773874 0.97394604\n",
      " 0.9706154 ]\n",
      "[0.96115279 0.930554   0.96041446 0.91224998 0.89551562 0.94696558\n",
      " 0.93720093]\n"
     ]
    }
   ],
   "source": [
    "pipeline.cfg_tb = {\n",
    "    \"readme\": \"readme\",\n",
    "    \"cmd_line\": \"cmd_line\",\n",
    "    \"dataset\": pprint.pformat(cfg_dataset, indent=2),\n",
    "    \"model\": pprint.pformat(cfg_model, indent=2),\n",
    "    \"pipeline\": pprint.pformat(cfg_pipeline, indent=2),\n",
    "}\n",
    "# print(pipeline.cfg_tb)\n",
    "\n",
    "if args.split == \"test\":\n",
    "    pipeline.run_test()\n",
    "else:\n",
    "    pipeline.run_train()"
   ]
  },
  {
   "cell_type": "code",
   "execution_count": null,
   "id": "encouraging-distance",
   "metadata": {},
   "outputs": [],
   "source": [
    "# pipeline.load_ckpt(ckpt_path=ckpt_path)\n",
    "# pipeline.run_test()\n",
    "\n",
    "# data = test_split.get_data(0)\n",
    "# attr = test_split.get_attr(0)\n",
    "# print(attr)\n",
    "\n",
    "# results = pipeline.run_inference(data)\n",
    "\n",
    "# pred = (results['predict_labels']).astype(np.int32)\n",
    "# scores = results['predict_scores']"
   ]
  },
  {
   "cell_type": "code",
   "execution_count": 4,
   "id": "based-active",
   "metadata": {
    "scrolled": true
   },
   "outputs": [
    {
     "name": "stderr",
     "output_type": "stream",
     "text": [
      "INFO - 2021-03-26 22:58:00,267 - smartlab - Found 22 pointclouds for test\n",
      "INFO - 2021-03-26 22:58:00,271 - semantic_segmentation - running inference\n",
      "  0%|          | 0/20596 [00:00<?, ?it/s]"
     ]
    },
    {
     "name": "stdout",
     "output_type": "stream",
     "text": [
      "{'name': 'pcd-1615489278347081000', 'path': '/home/lidar/datasets/SmartLab/test/pcd-1615489278347081000.npy', 'split': 'test'}\n"
     ]
    },
    {
     "name": "stderr",
     "output_type": "stream",
     "text": [
      "100%|██████████| 20596/20596 [00:01<00:00, 11602.44it/s]\n",
      "INFO - 2021-03-26 22:58:02,156 - semantic_segmentation - running inference\n",
      "  0%|          | 0/20228 [00:00<?, ?it/s]"
     ]
    },
    {
     "name": "stdout",
     "output_type": "stream",
     "text": [
      "{'name': 'pcd-1615483731179918000', 'path': '/home/lidar/datasets/SmartLab/test/pcd-1615483731179918000.npy', 'split': 'test'}\n"
     ]
    },
    {
     "name": "stderr",
     "output_type": "stream",
     "text": [
      "100%|██████████| 20228/20228 [00:01<00:00, 11553.60it/s]\n",
      "INFO - 2021-03-26 22:58:04,015 - semantic_segmentation - running inference\n",
      "  0%|          | 0/20529 [00:00<?, ?it/s]"
     ]
    },
    {
     "name": "stdout",
     "output_type": "stream",
     "text": [
      "{'name': 'pcd-1615483727027118000', 'path': '/home/lidar/datasets/SmartLab/test/pcd-1615483727027118000.npy', 'split': 'test'}\n"
     ]
    },
    {
     "name": "stderr",
     "output_type": "stream",
     "text": [
      "100%|██████████| 20529/20529 [00:01<00:00, 12610.72it/s]\n",
      "INFO - 2021-03-26 22:58:05,752 - semantic_segmentation - running inference\n",
      "  0%|          | 0/20285 [00:00<?, ?it/s]"
     ]
    },
    {
     "name": "stdout",
     "output_type": "stream",
     "text": [
      "{'name': 'pcd-1615484675696102000', 'path': '/home/lidar/datasets/SmartLab/test/pcd-1615484675696102000.npy', 'split': 'test'}\n"
     ]
    },
    {
     "name": "stderr",
     "output_type": "stream",
     "text": [
      "100%|██████████| 20285/20285 [00:02<00:00, 7433.62it/s] \n",
      "INFO - 2021-03-26 22:58:08,597 - semantic_segmentation - running inference\n",
      "  0%|          | 0/19824 [00:00<?, ?it/s]"
     ]
    },
    {
     "name": "stdout",
     "output_type": "stream",
     "text": [
      "{'name': 'pcd-1615483739343909000', 'path': '/home/lidar/datasets/SmartLab/test/pcd-1615483739343909000.npy', 'split': 'test'}\n"
     ]
    },
    {
     "name": "stderr",
     "output_type": "stream",
     "text": [
      "100%|██████████| 19824/19824 [00:02<00:00, 7152.19it/s] \n",
      "INFO - 2021-03-26 22:58:11,483 - semantic_segmentation - running inference\n",
      "  0%|          | 0/20223 [00:00<?, ?it/s]"
     ]
    },
    {
     "name": "stdout",
     "output_type": "stream",
     "text": [
      "{'name': 'pcd-1615484672610317000', 'path': '/home/lidar/datasets/SmartLab/test/pcd-1615484672610317000.npy', 'split': 'test'}\n"
     ]
    },
    {
     "name": "stderr",
     "output_type": "stream",
     "text": [
      "100%|██████████| 20223/20223 [00:01<00:00, 10500.53it/s]\n",
      "INFO - 2021-03-26 22:58:13,515 - semantic_segmentation - running inference\n",
      "  0%|          | 0/20495 [00:00<?, ?it/s]"
     ]
    },
    {
     "name": "stdout",
     "output_type": "stream",
     "text": [
      "{'name': 'pcd-1615489277344776000', 'path': '/home/lidar/datasets/SmartLab/test/pcd-1615489277344776000.npy', 'split': 'test'}\n"
     ]
    },
    {
     "name": "stderr",
     "output_type": "stream",
     "text": [
      "100%|██████████| 20495/20495 [00:01<00:00, 12119.84it/s]\n",
      "INFO - 2021-03-26 22:58:15,303 - semantic_segmentation - running inference\n",
      "  0%|          | 0/21127 [00:00<?, ?it/s]"
     ]
    },
    {
     "name": "stdout",
     "output_type": "stream",
     "text": [
      "{'name': 'pcd-1615483757870381000', 'path': '/home/lidar/datasets/SmartLab/test/pcd-1615483757870381000.npy', 'split': 'test'}\n"
     ]
    },
    {
     "name": "stderr",
     "output_type": "stream",
     "text": [
      "100%|██████████| 21127/21127 [00:01<00:00, 14757.44it/s]\n",
      "INFO - 2021-03-26 22:58:16,837 - semantic_segmentation - running inference\n",
      "  0%|          | 0/20169 [00:00<?, ?it/s]"
     ]
    },
    {
     "name": "stdout",
     "output_type": "stream",
     "text": [
      "{'name': 'pcd-1615489251599760000', 'path': '/home/lidar/datasets/SmartLab/test/pcd-1615489251599760000.npy', 'split': 'test'}\n"
     ]
    },
    {
     "name": "stderr",
     "output_type": "stream",
     "text": [
      "100%|██████████| 20169/20169 [00:02<00:00, 9535.79it/s] \n",
      "INFO - 2021-03-26 22:58:19,057 - semantic_segmentation - running inference\n",
      "  0%|          | 0/21011 [00:00<?, ?it/s]"
     ]
    },
    {
     "name": "stdout",
     "output_type": "stream",
     "text": [
      "{'name': 'pcd-1615484698297940000', 'path': '/home/lidar/datasets/SmartLab/test/pcd-1615484698297940000.npy', 'split': 'test'}\n"
     ]
    },
    {
     "name": "stderr",
     "output_type": "stream",
     "text": [
      "100%|██████████| 21011/21011 [00:01<00:00, 16961.16it/s]\n",
      "INFO - 2021-03-26 22:58:20,402 - semantic_segmentation - running inference\n",
      "  0%|          | 0/20259 [00:00<?, ?it/s]"
     ]
    },
    {
     "name": "stdout",
     "output_type": "stream",
     "text": [
      "{'name': 'pcd-1615488252297943000', 'path': '/home/lidar/datasets/SmartLab/test/pcd-1615488252297943000.npy', 'split': 'test'}\n"
     ]
    },
    {
     "name": "stderr",
     "output_type": "stream",
     "text": [
      "100%|██████████| 20259/20259 [00:01<00:00, 11564.77it/s]\n",
      "INFO - 2021-03-26 22:58:22,258 - semantic_segmentation - running inference\n",
      "  0%|          | 0/20708 [00:00<?, ?it/s]"
     ]
    },
    {
     "name": "stdout",
     "output_type": "stream",
     "text": [
      "{'name': 'pcd-1615483762914950000', 'path': '/home/lidar/datasets/SmartLab/test/pcd-1615483762914950000.npy', 'split': 'test'}\n"
     ]
    },
    {
     "name": "stderr",
     "output_type": "stream",
     "text": [
      "100%|██████████| 20708/20708 [00:01<00:00, 14226.73it/s]\n",
      "INFO - 2021-03-26 22:58:23,811 - semantic_segmentation - running inference\n",
      "  0%|          | 0/20292 [00:00<?, ?it/s]"
     ]
    },
    {
     "name": "stdout",
     "output_type": "stream",
     "text": [
      "{'name': 'pcd-1615489266115863000', 'path': '/home/lidar/datasets/SmartLab/test/pcd-1615489266115863000.npy', 'split': 'test'}\n"
     ]
    },
    {
     "name": "stderr",
     "output_type": "stream",
     "text": [
      "100%|██████████| 20292/20292 [00:01<00:00, 10964.68it/s]\n",
      "INFO - 2021-03-26 22:58:25,779 - semantic_segmentation - running inference\n",
      "  0%|          | 0/20292 [00:00<?, ?it/s]"
     ]
    },
    {
     "name": "stdout",
     "output_type": "stream",
     "text": [
      "{'name': 'pcd-1615489259898564000', 'path': '/home/lidar/datasets/SmartLab/test/pcd-1615489259898564000.npy', 'split': 'test'}\n"
     ]
    },
    {
     "name": "stderr",
     "output_type": "stream",
     "text": [
      "100%|██████████| 20292/20292 [00:02<00:00, 9139.19it/s] \n",
      "INFO - 2021-03-26 22:58:28,108 - semantic_segmentation - running inference\n",
      "  0%|          | 0/20319 [00:00<?, ?it/s]"
     ]
    },
    {
     "name": "stdout",
     "output_type": "stream",
     "text": [
      "{'name': 'pcd-1615488238993010000', 'path': '/home/lidar/datasets/SmartLab/test/pcd-1615488238993010000.npy', 'split': 'test'}\n"
     ]
    },
    {
     "name": "stderr",
     "output_type": "stream",
     "text": [
      "100%|██████████| 20319/20319 [00:01<00:00, 11369.55it/s]\n",
      "INFO - 2021-03-26 22:58:30,001 - semantic_segmentation - running inference\n",
      "  0%|          | 0/20417 [00:00<?, ?it/s]"
     ]
    },
    {
     "name": "stdout",
     "output_type": "stream",
     "text": [
      "{'name': 'pcd-1615489260902569000', 'path': '/home/lidar/datasets/SmartLab/test/pcd-1615489260902569000.npy', 'split': 'test'}\n"
     ]
    },
    {
     "name": "stderr",
     "output_type": "stream",
     "text": [
      "100%|██████████| 20417/20417 [00:01<00:00, 10512.52it/s]\n",
      "INFO - 2021-03-26 22:58:32,051 - semantic_segmentation - running inference\n",
      "  0%|          | 0/20131 [00:00<?, ?it/s]"
     ]
    },
    {
     "name": "stdout",
     "output_type": "stream",
     "text": [
      "{'name': 'pcd-1615488244079931000', 'path': '/home/lidar/datasets/SmartLab/test/pcd-1615488244079931000.npy', 'split': 'test'}\n"
     ]
    },
    {
     "name": "stderr",
     "output_type": "stream",
     "text": [
      "100%|██████████| 20131/20131 [00:01<00:00, 11900.68it/s]\n",
      "INFO - 2021-03-26 22:58:33,843 - semantic_segmentation - running inference\n",
      "  0%|          | 0/20885 [00:00<?, ?it/s]"
     ]
    },
    {
     "name": "stdout",
     "output_type": "stream",
     "text": [
      "{'name': 'pcd-1615484689041582000', 'path': '/home/lidar/datasets/SmartLab/test/pcd-1615484689041582000.npy', 'split': 'test'}\n"
     ]
    },
    {
     "name": "stderr",
     "output_type": "stream",
     "text": [
      "100%|██████████| 20885/20885 [00:01<00:00, 12283.05it/s]\n",
      "INFO - 2021-03-26 22:58:35,643 - semantic_segmentation - running inference\n",
      "  0%|          | 0/19793 [00:00<?, ?it/s]"
     ]
    },
    {
     "name": "stdout",
     "output_type": "stream",
     "text": [
      "{'name': 'pcd-1615484712733143000', 'path': '/home/lidar/datasets/SmartLab/test/pcd-1615484712733143000.npy', 'split': 'test'}\n"
     ]
    },
    {
     "name": "stderr",
     "output_type": "stream",
     "text": [
      "100%|██████████| 19793/19793 [00:01<00:00, 13658.17it/s]\n",
      "INFO - 2021-03-26 22:58:37,203 - semantic_segmentation - running inference\n",
      "  0%|          | 0/20362 [00:00<?, ?it/s]"
     ]
    },
    {
     "name": "stdout",
     "output_type": "stream",
     "text": [
      "{'name': 'pcd-1615488226596761000', 'path': '/home/lidar/datasets/SmartLab/test/pcd-1615488226596761000.npy', 'split': 'test'}\n"
     ]
    },
    {
     "name": "stderr",
     "output_type": "stream",
     "text": [
      "100%|██████████| 20362/20362 [00:02<00:00, 9882.13it/s] \n",
      "INFO - 2021-03-26 22:58:39,387 - semantic_segmentation - running inference\n",
      "  0%|          | 0/20892 [00:00<?, ?it/s]"
     ]
    },
    {
     "name": "stdout",
     "output_type": "stream",
     "text": [
      "{'name': 'pcd-1615488246150749000', 'path': '/home/lidar/datasets/SmartLab/test/pcd-1615488246150749000.npy', 'split': 'test'}\n"
     ]
    },
    {
     "name": "stderr",
     "output_type": "stream",
     "text": [
      "100%|██████████| 20892/20892 [00:01<00:00, 13527.23it/s]\n",
      "INFO - 2021-03-26 22:58:41,039 - semantic_segmentation - running inference\n",
      "  0%|          | 0/20312 [00:00<?, ?it/s]"
     ]
    },
    {
     "name": "stdout",
     "output_type": "stream",
     "text": [
      "{'name': 'pcd-1615488243053861000', 'path': '/home/lidar/datasets/SmartLab/test/pcd-1615488243053861000.npy', 'split': 'test'}\n"
     ]
    },
    {
     "name": "stderr",
     "output_type": "stream",
     "text": [
      "100%|██████████| 20312/20312 [00:02<00:00, 9924.35it/s] "
     ]
    },
    {
     "name": "stdout",
     "output_type": "stream",
     "text": [
      "\n",
      "\n",
      "[1.885943462002615, 1.859195200002432, 1.7373727720005263, 2.8447957149983267, 2.886125778997666, 2.0314938519986754, 1.788076834000094, 1.5341572040015308, 2.2197956449999765, 1.3453463410005497, 1.8558902539989504, 1.5529431739996653, 1.9676574429977336, 2.328826362001564, 1.8931094550025591, 2.050441695999325, 1.7922999389993493, 1.7998301879997598, 1.5595886449991667, 2.183524894000584, 1.6521237950000796, 2.1686141309983213]\n",
      "Average time 1.9517 seconds\n"
     ]
    },
    {
     "name": "stderr",
     "output_type": "stream",
     "text": [
      "\n"
     ]
    }
   ],
   "source": [
    "test_split = dataset.get_split(\"test\")\n",
    "\n",
    "vis_points = []\n",
    "times = []\n",
    "\n",
    "# for idx in range(len(test_split)):\n",
    "for idx in range(len(test_split)):\n",
    "\n",
    "    st = time.perf_counter()\n",
    "    attr = test_split.get_attr(idx)\n",
    "    data = test_split.get_data(idx)\n",
    "\n",
    "    print(attr)\n",
    "    results = pipeline.run_inference(data)\n",
    "\n",
    "    pred = (results[\"predict_labels\"]).astype(np.int32)\n",
    "\n",
    "    label = data[\"label\"]\n",
    "    pts = data[\"point\"]\n",
    "\n",
    "    vis_d = {\n",
    "        \"name\": attr[\"name\"],\n",
    "        \"points\": pts,\n",
    "        \"labels\": label,\n",
    "        \"pred\": pred,\n",
    "    }\n",
    "\n",
    "    vis_points.append(vis_d)\n",
    "    et = time.perf_counter()\n",
    "    times.append(et - st)\n",
    "\n",
    "print(\"\\n\")\n",
    "print(times)\n",
    "print(f\"Average time {np.mean(times):0.4f} seconds\")"
   ]
  },
  {
   "cell_type": "code",
   "execution_count": 5,
   "id": "armed-socket",
   "metadata": {},
   "outputs": [
    {
     "name": "stdout",
     "output_type": "stream",
     "text": [
      "{0: 'Unlabeled', 1: 'Floor', 2: 'Wall', 3: 'Robot', 4: 'Human', 5: 'AGV'}\n"
     ]
    }
   ],
   "source": [
    "v = ml3d.vis.Visualizer()\n",
    "\n",
    "lut = ml3d.vis.LabelLUT()\n",
    "\n",
    "# pprint.pprint(colors)\n",
    "\n",
    "label_names = dataset.get_label_to_names()\n",
    "pprint.pprint(label_names)\n",
    "\n",
    "for (c, cv), (l, lv) in zip(colors.items(), label_names.items()):\n",
    "    lut.add_label(lv, l, cv)\n",
    "\n",
    "# for key, val in dataset.label_to_names.items():\n",
    "#     lut.add_label(val, key)\n",
    "\n",
    "v.set_lut(\"labels\", lut)\n",
    "v.set_lut(\"pred\", lut)\n",
    "\n",
    "v.visualize(vis_points, width=2600, height=2000)"
   ]
  },
  {
   "cell_type": "code",
   "execution_count": null,
   "id": "conscious-desktop",
   "metadata": {},
   "outputs": [],
   "source": [
    "test_split = dataset.get_split(\"test\")\n",
    "\n",
    "for idx in range(len(test_split)):\n",
    "    attr = test_split.get_attr(idx)\n",
    "    data = test_split.get_data(idx)\n",
    "\n",
    "    unique, counts = np.unique(data[\"label\"], return_counts=True)\n",
    "    print(np.asarray((unique, counts)))"
   ]
  }
 ],
 "metadata": {
  "kernelspec": {
   "display_name": "Python 3",
   "language": "python",
   "name": "python3"
  },
  "language_info": {
   "codemirror_mode": {
    "name": "ipython",
    "version": 3
   },
   "file_extension": ".py",
   "mimetype": "text/x-python",
   "name": "python",
   "nbconvert_exporter": "python",
   "pygments_lexer": "ipython3",
   "version": "3.8.8"
  }
 },
 "nbformat": 4,
 "nbformat_minor": 5
}
