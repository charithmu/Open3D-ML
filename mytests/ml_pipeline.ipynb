{
 "cells": [
  {
   "cell_type": "code",
   "execution_count": null,
   "id": "friendly-algeria",
   "metadata": {},
   "outputs": [],
   "source": [
    "import argparse\n",
    "import copy\n",
    "import os\n",
    "import os.path as osp\n",
    "import pprint\n",
    "import sys\n",
    "import time\n",
    "from pathlib import Path\n",
    "\n",
    "import open3d.ml as _ml3d\n",
    "import yaml"
   ]
  },
  {
   "cell_type": "code",
   "execution_count": null,
   "id": "pediatric-herald",
   "metadata": {},
   "outputs": [],
   "source": [
    "basedir = \"/home/charith/repos/Open3D-ML\"\n",
    "datesetbase = \"/home/charith/datasets\"\n",
    "\n",
    "randlanet_smartlab_cfg = basedir + \"/ml3d/configs/randlanet_smartlab.yml\"\n",
    "randlanet_semantickitti_cfg = basedir +\"/ml3d/configs/randlanet_semantickitti.yml\"\n",
    "randlanet_s3dis_cfg = basedir + \"/ml3d/configs/randlanet_s3dis.yml\""
   ]
  },
  {
   "cell_type": "code",
   "execution_count": null,
   "id": "recreational-switch",
   "metadata": {},
   "outputs": [],
   "source": [
    "kwargs = {\n",
    "    \"framework\": \"tf\",\n",
    "    \"device\": \"cuda\",\n",
    "    \"dataset_path\": datasetbase + \"/S3DIS\",\n",
    "    \"split\": \"training\",\n",
    "    \"ckpt_path\": None,\n",
    "    \"cfg_file\": randlanet_s3dis_cfg,\n",
    "}\n",
    "\n",
    "args = type(\"args\", (object,), kwargs)()\n",
    "\n",
    "pprint.pprint(kwargs)"
   ]
  },
  {
   "cell_type": "code",
   "execution_count": null,
   "id": "better-confidentiality",
   "metadata": {},
   "outputs": [],
   "source": [
    "if args.framework == \"torch\":\n",
    "    import open3d.ml.torch as ml3d\n",
    "else:\n",
    "    import open3d.ml.tf as ml3d\n",
    "    import tensorflow as tf\n",
    "\n",
    "def merge_cfg_file(cfg, args, extra_dict):\n",
    "    if args.device is not None:\n",
    "        cfg.pipeline.device = args.device\n",
    "        cfg.model.device = args.device\n",
    "    if args.split is not None:\n",
    "        cfg.pipeline.split = args.split\n",
    "    if args.dataset_path is not None:\n",
    "        cfg.dataset.dataset_path = args.dataset_path\n",
    "    if args.ckpt_path is not None:\n",
    "        cfg.model.ckpt_path = args.ckpt_path\n",
    "\n",
    "    return cfg.dataset, cfg.pipeline, cfg.model"
   ]
  },
  {
   "cell_type": "code",
   "execution_count": null,
   "id": "developed-butterfly",
   "metadata": {},
   "outputs": [],
   "source": [
    "device = args.device\n",
    "gpus = tf.config.experimental.list_physical_devices(\"GPU\")\n",
    "print(gpus)\n",
    "if gpus:\n",
    "    try:\n",
    "        for gpu in gpus:\n",
    "            tf.config.experimental.set_memory_growth(gpu, True)\n",
    "        if device == \"cpu\":\n",
    "            tf.config.set_visible_devices([], \"GPU\")\n",
    "        elif device == \"cuda\":\n",
    "            tf.config.set_visible_devices(gpus[0], \"GPU\")\n",
    "        else:\n",
    "            idx = device.split(\":\")[1]\n",
    "            tf.config.set_visible_devices(gpus[int(idx)], \"GPU\")\n",
    "    except RuntimeError as e:\n",
    "        print(e)"
   ]
  },
  {
   "cell_type": "code",
   "execution_count": null,
   "id": "virtual-washer",
   "metadata": {},
   "outputs": [],
   "source": [
    "cfg = _ml3d.utils.Config.load_from_file(args.cfg_file)\n",
    "\n",
    "Pipeline = _ml3d.utils.get_module(\"pipeline\", cfg.pipeline.name, args.framework)\n",
    "Model = _ml3d.utils.get_module(\"model\", cfg.model.name, args.framework)\n",
    "Dataset = _ml3d.utils.get_module(\"dataset\", cfg.dataset.name)\n",
    "\n",
    "cfg_dataset, cfg_pipeline, cfg_model = merge_cfg_file(cfg, args, None)\n",
    "\n",
    "dataset = Dataset(**cfg_dataset)\n",
    "model = Model(**cfg_model)\n",
    "pipeline = Pipeline(model, dataset, **cfg_pipeline)"
   ]
  },
  {
   "cell_type": "code",
   "execution_count": null,
   "id": "bigger-energy",
   "metadata": {},
   "outputs": [],
   "source": [
    "pipeline.cfg_tb = {\n",
    "    \"readme\": \"readme\",\n",
    "    \"cmd_line\": \"cmd_line\",\n",
    "    \"dataset\": pprint.pformat(cfg_dataset, indent=2),\n",
    "    \"model\": pprint.pformat(cfg_model, indent=2),\n",
    "    \"pipeline\": pprint.pformat(cfg_pipeline, indent=2),\n",
    "}\n",
    "print(pipeline.cfg_tb)\n",
    "\n",
    "# if args.split == \"test\":\n",
    "#     pipeline.run_test()\n",
    "# else:\n",
    "#     pipeline.run_train()"
   ]
  },
  {
   "cell_type": "code",
   "execution_count": null,
   "id": "applicable-examination",
   "metadata": {},
   "outputs": [],
   "source": []
  }
 ],
 "metadata": {
  "kernelspec": {
   "display_name": "Python 3",
   "language": "python",
   "name": "python3"
  },
  "language_info": {
   "codemirror_mode": {
    "name": "ipython",
    "version": 3
   },
   "file_extension": ".py",
   "mimetype": "text/x-python",
   "name": "python",
   "nbconvert_exporter": "python",
   "pygments_lexer": "ipython3",
   "version": "3.8.8-final"
  }
 },
 "nbformat": 4,
 "nbformat_minor": 5
}