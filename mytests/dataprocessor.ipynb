{
 "cells": [
  {
   "cell_type": "code",
   "execution_count": null,
   "metadata": {},
   "outputs": [],
   "source": [
    "import glob\n",
    "import os\n",
    "import random\n",
    "from itertools import islice\n",
    "import numpy as np\n",
    "import pandas as pd\n",
    "from pypcd import pypcd"
   ]
  },
  {
   "cell_type": "code",
   "execution_count": null,
   "metadata": {},
   "outputs": [],
   "source": [
    "def convert_to_npy(path):\n",
    "    cloud = pypcd.PointCloud.from_path(path)\n",
    "    df = pd.DataFrame(cloud.pc_data)\n",
    "    result = df[[\"x\", \"y\", \"z\", \"label\"]].to_numpy()\n",
    "    return result"
   ]
  },
  {
   "cell_type": "code",
   "execution_count": null,
   "metadata": {},
   "outputs": [],
   "source": [
    "#path = \"/home/charith/Data/output-captureday/labled/senario1/\"\n",
    "annotated_path = \"/home/threedee/annotation_workspace/Data/smartlab/labled/\"\n",
    "npy_output_path = \"/home/threedee/datasets/SmartLab/npy/\"\n",
    "\n",
    "senarios = [\"senario1\", \"senario2\", \"senario3\", \"senario4\"]"
   ]
  },
  {
   "cell_type": "code",
   "execution_count": null,
   "metadata": {
    "tags": [
     "outputPrepend"
    ]
   },
   "outputs": [],
   "source": [
    "\n",
    "for sc in senarios:\n",
    "\n",
    "    print(\"Processing files in: \" + sc)\n",
    "    anno_path_sc = annotated_path + sc + \"/\"\n",
    "    save_path_sc = npy_output_path + sc + \"/\"\n",
    "\n",
    "    list = glob.glob(anno_path_sc + \"*.pcd\")\n",
    "    for i in range(len(list)):\n",
    "\n",
    "        print(list[i])\n",
    "\n",
    "        path, file = os.path.split(list[i])\n",
    "        save_path =  save_path_sc + file[:-4] + \".npy\"\n",
    "\n",
    "        if not os.path.exists(save_path_sc):\n",
    "            os.makedirs(save_path_sc)\n",
    "\n",
    "        npy_cloud = convert_to_npy(list[i])\n",
    "        np.save(save_path, npy_cloud)"
   ]
  },
  {
   "cell_type": "code",
   "execution_count": 16,
   "metadata": {},
   "outputs": [
    {
     "output_type": "stream",
     "name": "stdout",
     "text": [
      "None\n"
     ]
    }
   ],
   "source": [
    "total = 218\n",
    "split_val = [152, 44, 22]\n",
    "split_names = [\"train\", \"val\", \"test\"]\n",
    "\n",
    "files = glob.glob(npy_output_path + \"/**/*.npy\", recursive = True)\n",
    "\n",
    "filearray = np.array(files)\n",
    "filearray = np.random.shuffle(filearray)\n",
    "print(filearray)\n",
    "#splits = np.split(filearray, [153, 197])\n",
    "\n",
    "#for (idx, name) in zip(range(3), split_names):\n",
    "#    print(idx, val, name)\n",
    "    \n",
    "\n"
   ]
  },
  {
   "cell_type": "code",
   "execution_count": null,
   "metadata": {},
   "outputs": [],
   "source": []
  },
  {
   "cell_type": "code",
   "execution_count": null,
   "metadata": {},
   "outputs": [],
   "source": []
  }
 ],
 "metadata": {
  "kernelspec": {
   "display_name": "Python 3",
   "language": "python",
   "name": "python3"
  },
  "language_info": {
   "codemirror_mode": {
    "name": "ipython",
    "version": 3
   },
   "file_extension": ".py",
   "mimetype": "text/x-python",
   "name": "python",
   "nbconvert_exporter": "python",
   "pygments_lexer": "ipython3",
   "version": "3.8.8-final"
  }
 },
 "nbformat": 4,
 "nbformat_minor": 4
}