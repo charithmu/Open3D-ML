{
 "cells": [
  {
   "cell_type": "code",
   "execution_count": 16,
   "metadata": {},
   "outputs": [],
   "source": [
    "import glob\n",
    "import os\n",
    "\n",
    "import numpy as np\n",
    "import pandas as pd\n",
    "from pypcd import pypcd"
   ]
  },
  {
   "cell_type": "code",
   "execution_count": 17,
   "metadata": {},
   "outputs": [],
   "source": [
    "def convert_to_npy(path):\n",
    "    cloud = pypcd.PointCloud.from_path(path)\n",
    "    df = pd.DataFrame(cloud.pc_data)\n",
    "    result = df[[\"x\", \"y\", \"z\", \"label\"]].to_numpy()\n",
    "    return result"
   ]
  },
  {
   "cell_type": "code",
   "execution_count": 18,
   "metadata": {},
   "outputs": [],
   "source": [
    "#path = \"/home/charith/Data/output-captureday/labled/senario1/\"\n",
    "path = \"/home/threedee/datasets/SmartLab/train/\""
   ]
  },
  {
   "cell_type": "code",
   "execution_count": 19,
   "metadata": {},
   "outputs": [
    {
     "name": "stdout",
     "output_type": "stream",
     "text": [
      "/home/threedee/datasets/SmartLab/train/pcd-1615489238224202000.pcd\n",
      "/home/threedee/datasets/SmartLab/train/pcd-1615489246412959000.pcd\n",
      "/home/threedee/datasets/SmartLab/train/pcd-1615489248494967000.pcd\n",
      "/home/threedee/datasets/SmartLab/train/pcd-1615489239231722000.pcd\n",
      "/home/threedee/datasets/SmartLab/train/pcd-1615489240277344000.pcd\n",
      "/home/threedee/datasets/SmartLab/train/pcd-1615489244401738000.pcd\n",
      "/home/threedee/datasets/SmartLab/train/pcd-1615489236144600000.pcd\n",
      "/home/threedee/datasets/SmartLab/train/pcd-1615489242360641000.pcd\n",
      "/home/threedee/datasets/SmartLab/train/pcd-1615489247452747000.pcd\n",
      "/home/threedee/datasets/SmartLab/train/pcd-1615489235101931000.pcd\n",
      "/home/threedee/datasets/SmartLab/train/pcd-1615489234071318000.pcd\n",
      "/home/threedee/datasets/SmartLab/train/pcd-1615489249527345000.pcd\n",
      "/home/threedee/datasets/SmartLab/train/pcd-1615489237194080000.pcd\n",
      "/home/threedee/datasets/SmartLab/train/pcd-1615489243399769000.pcd\n",
      "/home/threedee/datasets/SmartLab/train/pcd-1615489241323865000.pcd\n",
      "/home/threedee/datasets/SmartLab/train/pcd-1615489245408461000.pcd\n"
     ]
    }
   ],
   "source": [
    "list = glob.glob(path + \"*.pcd\")\n",
    "for i in range(len(list)):\n",
    "\n",
    "    print(list[i])\n",
    "\n",
    "    path, file = os.path.split(list[i])\n",
    "    save_path = path + \"/npy/\" + file[:-4] + \".npy\"\n",
    "\n",
    "    if not os.path.exists(path + \"/npy/\"):\n",
    "        os.makedirs(path + \"/npy/\")\n",
    "\n",
    "    npy_cloud = convert_to_npy(list[i])\n",
    "    np.save(save_path, npy_cloud)"
   ]
  },
  {
   "cell_type": "code",
   "execution_count": null,
   "metadata": {},
   "outputs": [],
   "source": []
  }
 ],
 "metadata": {
  "kernelspec": {
   "display_name": "Python 3",
   "language": "python",
   "name": "python3"
  },
  "language_info": {
   "codemirror_mode": {
    "name": "ipython",
    "version": 3
   },
   "file_extension": ".py",
   "mimetype": "text/x-python",
   "name": "python",
   "nbconvert_exporter": "python",
   "pygments_lexer": "ipython3",
   "version": "3.8.8"
  }
 },
 "nbformat": 4,
 "nbformat_minor": 4
}
