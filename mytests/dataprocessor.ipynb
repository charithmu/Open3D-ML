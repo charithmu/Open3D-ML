{
 "cells": [
  {
   "cell_type": "code",
   "execution_count": 1,
   "metadata": {},
   "outputs": [],
   "source": [
    "import glob\n",
    "import os\n",
    "\n",
    "import numpy as np\n",
    "import pandas as pd\n",
    "from pypcd import pypcd"
   ]
  },
  {
   "cell_type": "code",
   "execution_count": 2,
   "metadata": {},
   "outputs": [],
   "source": [
    "def convert_to_npy(path):\n",
    "    cloud = pypcd.PointCloud.from_path(path)\n",
    "    df = pd.DataFrame(cloud.pc_data)\n",
    "    result = df[[\"x\", \"y\", \"z\", \"label\"]].to_numpy()\n",
    "    return result"
   ]
  },
  {
   "cell_type": "code",
   "execution_count": 3,
   "metadata": {},
   "outputs": [],
   "source": [
    "path = \"/home/charith/Data/output-captureday/labled/senario1/\""
   ]
  },
  {
   "cell_type": "code",
   "execution_count": 4,
   "metadata": {},
   "outputs": [
    {
     "name": "stdout",
     "output_type": "stream",
     "text": [
      "/home/charith/Data/output-captureday/labled/senario1/pcd-1615483692023160000.pcd\n",
      "/home/charith/Data/output-captureday/labled/senario1/pcd-1615483693023335000.pcd\n",
      "/home/charith/Data/output-captureday/labled/senario1/pcd-1615483682689850000.pcd\n"
     ]
    }
   ],
   "source": [
    "list = glob.glob(path + \"*.pcd\")\n",
    "for i in range(len(list)):\n",
    "\n",
    "    print(list[i])\n",
    "\n",
    "    path, file = os.path.split(list[i])\n",
    "    save_path = path + \"/npy/\" + file[:-4] + \".npy\"\n",
    "\n",
    "    if not os.path.exists(path + \"/npy/\"):\n",
    "        os.makedirs(path + \"/npy/\")\n",
    "\n",
    "    npy_cloud = convert_to_npy(list[i])\n",
    "    np.save(save_path, npy_cloud)"
   ]
  },
  {
   "cell_type": "code",
   "execution_count": null,
   "metadata": {},
   "outputs": [],
   "source": []
  }
 ],
 "metadata": {
  "kernelspec": {
   "display_name": "Python 3",
   "language": "python",
   "name": "python3"
  },
  "language_info": {
   "codemirror_mode": {
    "name": "ipython",
    "version": 3
   },
   "file_extension": ".py",
   "mimetype": "text/x-python",
   "name": "python",
   "nbconvert_exporter": "python",
   "pygments_lexer": "ipython3",
   "version": "3.8.8"
  }
 },
 "nbformat": 4,
 "nbformat_minor": 4
}
