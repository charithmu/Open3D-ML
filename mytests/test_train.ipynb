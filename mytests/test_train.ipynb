{
 "cells": [
  {
   "cell_type": "code",
   "execution_count": null,
   "id": "municipal-satellite",
   "metadata": {},
   "outputs": [],
   "source": [
    "import os\n",
    "import pprint"
   ]
  },
  {
   "cell_type": "code",
   "execution_count": null,
   "id": "integral-stress",
   "metadata": {},
   "outputs": [],
   "source": [
    "import open3d.ml as _ml3d\n",
    "import open3d.ml.tf as ml3d\n",
    "from open3d.ml.datasets import (SemanticKITTI, ParisLille3D, Semantic3D, S3DIS, Toronto3D, KITTI)\n",
    "from open3d.ml.tf.models import RandLANet, KPFCNN\n",
    "from open3d.ml.tf.pipelines import SemanticSegmentation"
   ]
  },
  {
   "cell_type": "code",
   "execution_count": null,
   "id": "alternative-subject",
   "metadata": {},
   "outputs": [],
   "source": [
    "dataset_path='/home/threedee/datasets/S3DIS'\n",
    "randlanet_s3dis_cfg = \"/home/threedee/repos/Open3D-ML/ml3d/configs/randlanet_s3dis.yml\""
   ]
  },
  {
   "cell_type": "code",
   "execution_count": null,
   "id": "specific-labor",
   "metadata": {},
   "outputs": [],
   "source": [
    "cfg = _ml3d.utils.Config.load_from_file(randlanet_s3dis_cfg)\n",
    "cfg.dataset['dataset_path'] = dataset_path\n",
    "\n",
    "model = RandLANet(**cfg.model)\n",
    "dataset = S3DIS(cfg.dataset.pop('dataset_path', None), **cfg.dataset)\n",
    "pipeline = SemanticSegmentation(model, dataset=dataset, device=\"gpu\", **cfg.pipeline)"
   ]
  },
  {
   "cell_type": "code",
   "execution_count": null,
   "id": "everyday-absorption",
   "metadata": {},
   "outputs": [],
   "source": [
    "# construct a dataset by specifying dataset_path\n",
    "#dataset = ml3d.datasets.S3DIS(dataset_path=dataset_path)\n",
    "\n",
    "# get the 'all' split that combines training, validation and test set\n",
    "all_split = dataset.get_split('all')\n",
    "\n",
    "# print the attributes of the first datum\n",
    "print(all_split.get_attr(0))\n",
    "\n",
    "# print the shape of the first point cloud\n",
    "print(all_split.get_data(0)['point'].shape)\n",
    "\n",
    "# show the first 100 frames using the visualizer\n",
    "vis = ml3d.vis.Visualizer()\n",
    "\n",
    "vis.visualize_dataset(dataset, 'all', indices=range(100))"
   ]
  },
  {
   "cell_type": "code",
   "execution_count": null,
   "id": "expanded-bench",
   "metadata": {},
   "outputs": [],
   "source": [
    "# download the weights.\n",
    "ckpt_path = \"/home/threedee/repos/Open3D-ML/logs/RandLANet_S3DIS_tf/checkpoint/ckpt-6\"\n",
    "\n",
    "# load the parameters.\n",
    "pipeline.load_ckpt(ckpt_path=ckpt_path)\n",
    "\n",
    "test_split = dataset.get_split(\"test\")\n",
    "data = test_split.get_data(0)\n",
    "\n",
    "# run inference on a single example.\n",
    "# returns dict with 'predict_labels' and 'predict_scores'.\n",
    "result = pipeline.run_inference(data)\n",
    "\n",
    "# evaluate performance on the test set; this will write logs to './logs'.\n",
    "pipeline.run_test()"
   ]
  },
  {
   "cell_type": "code",
   "execution_count": null,
   "id": "through-novel",
   "metadata": {},
   "outputs": [],
   "source": [
    "#odel = RandLANet(**cfg.model)\n",
    "#dataset = S3DIS(cfg.dataset.pop('dataset_path', None), **cfg.dataset)\n",
    "#pipeline = SemanticSegmentation(model, dataset=dataset, device=\"gpu\", **cfg.pipeline)\n",
    "\n",
    "pipeline.cfg_tb = {\n",
    "    'readme': \"readme\",\n",
    "    'cmd_line': \"cmd_line\",\n",
    "    'dataset': pprint.pformat(\"S3DIS\", indent=2),\n",
    "    'model': pprint.pformat(\"RandLaNet\", indent=2),\n",
    "    'pipeline': pprint.pformat(\"SemanticSegmentation\", indent=2)\n",
    "}\n",
    "\n",
    "# prints training progress in the console.\n",
    "pipeline.run_train()"
   ]
  },
  {
   "cell_type": "code",
   "execution_count": null,
   "id": "decent-louisiana",
   "metadata": {},
   "outputs": [],
   "source": [
    "import numpy as np\n",
    "import time\n",
    "\n",
    "start=time.time()\n",
    "\n",
    "data = np.load('/home/threedee/repos/Open3D-ML/logs/cache/e08af6b877145892abd30193e3fa5056/Area_1_copyRoom_1.npy', allow_pickle=True)\n",
    "\n",
    "end=time.time()\n",
    "\n",
    "print(\"\\nData summary:\\n\", data)\n",
    "print(\"\\nData shape:\\n\", data.shape)\n",
    "print(f\"\\nTime to read: {round(end-start,5)} seconds.\")\n",
    "\n"
   ]
  },
  {
   "cell_type": "code",
   "execution_count": null,
   "id": "coastal-patrol",
   "metadata": {},
   "outputs": [],
   "source": [
    "data.item()\n"
   ]
  }
 ],
 "metadata": {
  "kernelspec": {
   "display_name": "Python 3",
   "language": "python",
   "name": "python3"
  },
  "language_info": {
   "codemirror_mode": {
    "name": "ipython",
    "version": 3
   },
   "file_extension": ".py",
   "mimetype": "text/x-python",
   "name": "python",
   "nbconvert_exporter": "python",
   "pygments_lexer": "ipython3",
   "version": "3.8.8"
  }
 },
 "nbformat": 4,
 "nbformat_minor": 5
}
