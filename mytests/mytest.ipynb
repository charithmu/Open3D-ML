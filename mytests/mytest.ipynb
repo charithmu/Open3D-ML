{
 "cells": [
  {
   "cell_type": "code",
   "execution_count": null,
   "id": "digital-staff",
   "metadata": {},
   "outputs": [],
   "source": [
    "import os\n",
    "import open3d.ml as _ml3d\n",
    "# import open3d.ml.torch as ml3d\n",
    "import open3d.ml.tf as ml3d"
   ]
  },
  {
   "cell_type": "code",
   "execution_count": null,
   "id": "numerical-tower",
   "metadata": {},
   "outputs": [],
   "source": []
  },
  {
   "cell_type": "code",
   "execution_count": null,
   "id": "senior-peoples",
   "metadata": {},
   "outputs": [],
   "source": [
    "cfg_file = \"../ml3d/configs/randlanet_semantickitti.yml\"\n",
    "cfg = _ml3d.utils.Config.load_from_file(cfg_file)\n",
    "\n",
    "\n",
    "cfg.dataset['dataset_path'] = \"/home/charith/datasets/semantic-kitti/\"\n",
    "dataset = ml3d.datasets.SemanticKITTI(cfg.dataset.pop('dataset_path', None), **cfg.dataset)\n",
    "\n",
    "model = ml3d.models.RandLANet(**cfg.model)\n",
    "pipeline = ml3d.pipelines.SemanticSegmentation(model, dataset=dataset, device=\"gpu\", **cfg.pipeline)\n",
    "\n",
    "# download the weights.\n",
    "ckpt_folder = \"./logs/\"\n",
    "os.makedirs(ckpt_folder, exist_ok=True)\n",
    "\n",
    "ckpt_path = ckpt_folder + \"randlanet_semantickitti_202009090354utc.pth\"\n",
    "\n",
    "randlanet_url = \"https://storage.googleapis.com/open3d-releases/model-zoo/randlanet_semantickitti_202009090354utc.pth\"\n",
    "\n",
    "if not os.path.exists(ckpt_path):\n",
    "    cmd = \"wget {} -O {}\".format(randlanet_url, ckpt_path)\n",
    "    os.system(cmd)\n",
    "    \n",
    "# load the parameters.\n",
    "pipeline.load_ckpt(ckpt_path=ckpt_path)\n",
    "\n",
    "test_split = dataset.get_split(\"test\")\n",
    "data = test_split.get_data(0)\n",
    "\n",
    "# run inference on a single example.\n",
    "# returns dict with 'predict_labels' and 'predict_scores'.\n",
    "result = pipeline.run_inference(data)\n",
    "\n",
    "# evaluate performance on the test set; this will write logs to './logs'.\n",
    "pipeline.run_test()"
   ]
  },
  {
   "cell_type": "code",
   "execution_count": null,
   "id": "liked-analyst",
   "metadata": {},
   "outputs": [],
   "source": []
  },
  {
   "cell_type": "code",
   "execution_count": null,
   "id": "editorial-england",
   "metadata": {},
   "outputs": [],
   "source": []
  },
  {
   "cell_type": "code",
   "execution_count": null,
   "id": "tight-canberra",
   "metadata": {},
   "outputs": [],
   "source": []
  }
 ],
 "metadata": {
  "kernelspec": {
   "display_name": "Python 3",
   "language": "python",
   "name": "python3"
  },
  "language_info": {
   "codemirror_mode": {
    "name": "ipython",
    "version": 3
   },
   "file_extension": ".py",
   "mimetype": "text/x-python",
   "name": "python",
   "nbconvert_exporter": "python",
   "pygments_lexer": "ipython3",
   "version": "3.8.8"
  }
 },
 "nbformat": 4,
 "nbformat_minor": 5
}
