{
 "cells": [
  {
   "cell_type": "code",
   "execution_count": null,
   "metadata": {},
   "outputs": [],
   "source": [
    "import glob\n",
    "import os\n",
    "import pprint\n",
    "import random\n",
    "import shutil\n",
    "from itertools import islice\n",
    "\n",
    "import numpy as np\n",
    "import pandas as pd\n",
    "from pypcd import pypcd"
   ]
  },
  {
   "cell_type": "code",
   "execution_count": null,
   "metadata": {},
   "outputs": [],
   "source": [
    "def convert_to_npy(path):\n",
    "    cloud = pypcd.PointCloud.from_path(path)\n",
    "    df = pd.DataFrame(cloud.pc_data)\n",
    "    result = df[[\"x\", \"y\", \"z\", \"label\"]].to_numpy()\n",
    "    return result"
   ]
  },
  {
   "cell_type": "code",
   "execution_count": null,
   "metadata": {},
   "outputs": [],
   "source": [
    "dataset_path = \"/home/threedee/datasets/SmartLab/\"\n",
    "annotated_path = \"/home/threedee/annotation_workspace/Data/smartlab/labled/\"\n",
    "\n",
    "senarios = [\"senario1\", \"senario2\", \"senario3\", \"senario4\"]\n",
    "\n",
    "npy_output_path = dataset_path + \"npy/\""
   ]
  },
  {
   "cell_type": "code",
   "execution_count": null,
   "metadata": {
    "tags": [
     "outputPrepend"
    ]
   },
   "outputs": [],
   "source": [
    "# save *.pcd files as *.npy files in given folder.\n",
    "\n",
    "for sc in senarios:\n",
    "\n",
    "    print(\"Processing files in: \" + sc)\n",
    "    anno_path_sc = annotated_path + sc + \"/\"\n",
    "    save_path_sc = npy_output_path + sc + \"/\"\n",
    "\n",
    "    list = glob.glob(anno_path_sc + \"*.pcd\")\n",
    "    for i in range(len(list)):\n",
    "\n",
    "        print(list[i])\n",
    "\n",
    "        path, file = os.path.split(list[i])\n",
    "        save_path = save_path_sc + file[:-4] + \".npy\"\n",
    "\n",
    "        if not os.path.exists(save_path_sc):\n",
    "            os.makedirs(save_path_sc)\n",
    "\n",
    "        npy_cloud = convert_to_npy(list[i])\n",
    "        np.save(save_path, npy_cloud)"
   ]
  },
  {
   "cell_type": "code",
   "execution_count": null,
   "metadata": {},
   "outputs": [],
   "source": [
    "# clean the train,val and test folders for new data\n",
    "\n",
    "train_set = glob.glob(dataset_path + \"train/*\")\n",
    "val_set = glob.glob(dataset_path + \"val/*\")\n",
    "test_set = glob.glob(dataset_path + \"test/*\")\n",
    "all_set = train_set + val_set + test_set\n",
    "for f in all_set:\n",
    "    # print(\"Removing: \" + f)\n",
    "    os.remove(f)\n",
    "print(\"Removed \" + str(len(all_set)) + \" files.\")"
   ]
  },
  {
   "cell_type": "code",
   "execution_count": null,
   "metadata": {
    "tags": []
   },
   "outputs": [],
   "source": [
    "# copy files in to train,val and test folders with random sampling\n",
    "\n",
    "total = 218\n",
    "split_val = [152, 44, 22]\n",
    "split_names = [\"train\", \"val\", \"test\"]\n",
    "\n",
    "files = glob.glob(npy_output_path + \"/**/*.npy\", recursive=True)\n",
    "\n",
    "print(str(len(files)) + \" files found.\")\n",
    "# pprint.pprint(files[0])\n",
    "\n",
    "filearr = np.array(files)\n",
    "np.random.shuffle(filearr)\n",
    "\n",
    "# pprint.pprint(filearr[0])\n",
    "\n",
    "splits = np.split(filearr, [152, 196])\n",
    "\n",
    "for (idx, name) in zip(range(3), split_names):\n",
    "\n",
    "    print(\"Copying \" + str(len(splits[idx])) + \" files into split: \" + name)\n",
    "\n",
    "    for file in splits[idx]:\n",
    "        filename = os.path.split(file)[1]\n",
    "        copy_path = dataset_path + name + \"/\" + filename\n",
    "\n",
    "        shutil.copy(file, copy_path)"
   ]
  }
 ],
 "metadata": {
  "kernelspec": {
   "display_name": "Python 3",
   "language": "python",
   "name": "python3"
  },
  "language_info": {
   "codemirror_mode": {
    "name": "ipython",
    "version": 3
   },
   "file_extension": ".py",
   "mimetype": "text/x-python",
   "name": "python",
   "nbconvert_exporter": "python",
   "pygments_lexer": "ipython3",
   "version": "3.8.8"
  }
 },
 "nbformat": 4,
 "nbformat_minor": 4
}
