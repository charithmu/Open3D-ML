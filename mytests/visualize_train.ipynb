{
 "cells": [
  {
   "cell_type": "code",
   "execution_count": null,
   "id": "prepared-assault",
   "metadata": {},
   "outputs": [],
   "source": [
    "import argparse\n",
    "import copy\n",
    "import os\n",
    "import os.path as osp\n",
    "import pprint\n",
    "import sys\n",
    "import time\n",
    "from pathlib import Path\n",
    "\n",
    "import open3d.ml as _ml3d\n",
    "import open3d.ml.tf as ml3d\n",
    "import yaml\n",
    "from open3d.ml.datasets import S3DIS, SemanticKITTI, SmartLab\n",
    "from open3d.ml.tf.models import RandLANet\n",
    "from open3d.ml.tf.pipelines import SemanticSegmentation\n",
    "from open3d.ml.utils import Config, get_module"
   ]
  },
  {
   "cell_type": "code",
   "execution_count": null,
   "id": "super-costume",
   "metadata": {},
   "outputs": [],
   "source": [
    "randlanet_smartlab_cfg = \"/home/threedee/repos/Open3D-ML/ml3d/configs/randlanet_smartlab.yml\"\n",
    "randlanet_semantickitti_cfg = \"/home/threedee/repos/Open3D-ML/ml3d/configs/randlanet_semantickitti.yml\"\n",
    "randlanet_s3dis_cfg = \"/home/threedee/repos/Open3D-ML/ml3d/configs/randlanet_s3dis.yml\""
   ]
  },
  {
   "cell_type": "code",
   "execution_count": null,
   "id": "authorized-answer",
   "metadata": {},
   "outputs": [],
   "source": [
    "cfg = _ml3d.utils.Config.load_from_file(randlanet_smartlab_cfg)\n",
    "\n",
    "# construct a dataset by specifying dataset_path\n",
    "dataset = ml3d.datasets.SmartLab(**cfg.dataset)\n",
    "\n",
    "# get the 'all' split that combines training, validation and test set\n",
    "split = dataset.get_split(\"training\")\n",
    "\n",
    "# print the attributes of the first datum\n",
    "print(split.get_attr(0))\n",
    "\n",
    "# print the shape of the first point cloud\n",
    "print(split.get_data(0)[\"point\"].shape)\n",
    "\n",
    "# for idx in range(split.__len__()):\n",
    "#     print(split.get_data(idx)[\"point\"].shape[0])"
   ]
  },
  {
   "cell_type": "code",
   "execution_count": null,
   "id": "promising-austria",
   "metadata": {},
   "outputs": [],
   "source": [
    "# show the first 100 frames using the visualizer\n",
    "vis = ml3d.vis.Visualizer()\n",
    "vis.visualize_dataset(dataset, \"training\")  # , indices=range(100)"
   ]
  },
  {
   "cell_type": "code",
   "execution_count": null,
   "id": "assigned-liberia",
   "metadata": {},
   "outputs": [],
   "source": [
    "cfg = _ml3d.utils.Config.load_from_file(randlanet_s3dis_cfg)"
   ]
  },
  {
   "cell_type": "code",
   "execution_count": null,
   "id": "charitable-sunglasses",
   "metadata": {},
   "outputs": [],
   "source": [
    "dataset = S3DIS(\"/home/charith/datasets/S3DIS/\", use_cache=True)\n",
    "\n",
    "model = RandLANet(**cfg.model)\n",
    "\n",
    "pipeline = SemanticSegmentation(model=model, dataset=dataset, max_epoch=100)\n",
    "\n",
    "pipeline.cfg_tb = {\n",
    "    \"readme\": \"readme\",\n",
    "    \"cmd_line\": \"cmd_line\",\n",
    "    \"dataset\": pprint.pformat(\"S3DIS\", indent=2),\n",
    "    \"model\": pprint.pformat(\"RandLANet\", indent=2),\n",
    "    \"pipeline\": pprint.pformat(\"SemanticSegmentation\", indent=2),\n",
    "}"
   ]
  },
  {
   "cell_type": "code",
   "execution_count": null,
   "id": "olympic-appointment",
   "metadata": {},
   "outputs": [],
   "source": [
    "pipeline.run_train()"
   ]
  },
  {
   "cell_type": "code",
   "execution_count": null,
   "id": "progressive-phoenix",
   "metadata": {},
   "outputs": [],
   "source": [
    "# Inference and test example\n",
    "from open3d.ml.tf.models import RandLANet\n",
    "from open3d.ml.tf.pipelines import SemanticSegmentation\n",
    "\n",
    "Pipeline = get_module(\"pipeline\", \"SemanticSegmentation\", \"tf\")\n",
    "Model = get_module(\"model\", \"RandLANet\", \"tf\")\n",
    "Dataset = get_module(\"dataset\", \"SemanticKITTI\")\n",
    "\n",
    "RandLANet = Model(ckpt_path=args.path_ckpt_randlanet)\n",
    "\n",
    "# Initialize by specifying config file path\n",
    "SemanticKITTI = Dataset(args.path_semantickitti, use_cache=False)\n",
    "\n",
    "pipeline = Pipeline(model=RandLANet, dataset=SemanticKITTI)\n",
    "\n",
    "# inference\n",
    "# get data\n",
    "train_split = SemanticKITTI.get_split(\"train\")\n",
    "data = train_split.get_data(0)\n",
    "# restore weights\n",
    "\n",
    "# run inference\n",
    "results = pipeline.run_inference(data)\n",
    "print(results)\n",
    "\n",
    "# test\n",
    "pipeline.run_test()"
   ]
  }
 ],
 "metadata": {
  "kernelspec": {
   "display_name": "Python 3",
   "language": "python",
   "name": "python3"
  },
  "language_info": {
   "codemirror_mode": {
    "name": "ipython",
    "version": 3
   },
   "file_extension": ".py",
   "mimetype": "text/x-python",
   "name": "python",
   "nbconvert_exporter": "python",
   "pygments_lexer": "ipython3",
   "version": "3.8.8"
  }
 },
 "nbformat": 4,
 "nbformat_minor": 5
}
