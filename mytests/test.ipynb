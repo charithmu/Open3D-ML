{
 "cells": [
  {
   "cell_type": "code",
   "execution_count": null,
   "id": "noble-airfare",
   "metadata": {},
   "outputs": [],
   "source": [
    "import tensorflow\n",
    "print(tensorflow.__version__)"
   ]
  },
  {
   "cell_type": "code",
   "execution_count": null,
   "id": "synthetic-symposium",
   "metadata": {},
   "outputs": [],
   "source": [
    "from sklearn.neighbors import KDTree\n",
    "from os.path import join, exists, dirname, abspath\n",
    "import numpy as np\n",
    "import pandas as pd\n",
    "import os, sys, glob, pickle\n",
    "\n",
    "from helper_ply import write_ply"
   ]
  },
  {
   "cell_type": "code",
   "execution_count": null,
   "id": "deadly-alabama",
   "metadata": {},
   "outputs": [],
   "source": [
    "def convert_pc2ply(anno_path, save_path):\n",
    "    \"\"\"\n",
    "    Convert original dataset files to ply file (each line is XYZRGBL).\n",
    "    We aggregated all the points from each instance in the room.\n",
    "    :param anno_path: path to annotations. e.g. Area_1/office_2/Annotations/\n",
    "    :param save_path: path to save original point clouds (each line is XYZRGBL)\n",
    "    :return: None\n",
    "    \"\"\"\n",
    "    data_list = []\n",
    "\n",
    "    for f in glob.glob(join(anno_path, '*.txt')):\n",
    "        class_name = os.path.basename(f).split('_')[0]\n",
    "        if class_name not in gt_class:  # note: in some room there is 'staris' class..\n",
    "            class_name = 'clutter'\n",
    "        pc = pd.read_csv(f, header=None, delim_whitespace=True).values\n",
    "        labels = np.ones((pc.shape[0], 1)) * gt_class2label[class_name]\n",
    "        data_list.append(np.concatenate([pc, labels], 1))  # Nx7\n",
    "\n",
    "    pc_label = np.concatenate(data_list, 0)\n",
    "    xyz_min = np.amin(pc_label, axis=0)[0:3]\n",
    "    pc_label[:, 0:3] -= xyz_min\n",
    "\n",
    "    xyz = pc_label[:, :3].astype(np.float32)\n",
    "    colors = pc_label[:, 3:6].astype(np.uint8)\n",
    "    labels = pc_label[:, 6].astype(np.uint8)\n",
    "    write_ply(save_path, (xyz, colors, labels), ['x', 'y', 'z', 'red', 'green', 'blue', 'class'])"
   ]
  },
  {
   "cell_type": "code",
   "execution_count": null,
   "id": "dutch-chapter",
   "metadata": {},
   "outputs": [],
   "source": [
    "dataset_path = '/home/threedee/datasets/S3DIS/'\n",
    "anno_paths = [line.rstrip() for line in open('/home/threedee/datasets/S3DIS/anno_paths.txt')]\n",
    "anno_paths = [join(dataset_path, p) for p in anno_paths]\n",
    "\n",
    "gt_class = [x.rstrip() for x in open('/home/threedee/datasets/S3DIS/class_names.txt')]\n",
    "gt_class2label = {cls: i for i, cls in enumerate(gt_class)}\n",
    "\n",
    "original_pc_folder = join(dirname(dataset_path), 'original_ply')\n",
    "os.mkdir(original_pc_folder) if not exists(original_pc_folder) else None\n",
    "\n",
    "out_format = '.ply'\n",
    "\n",
    "for annotation_path in anno_paths:\n",
    "        print(annotation_path)\n",
    "        elements = str(annotation_path).split('/')\n",
    "        out_file_name = elements[-3] + '_' + elements[-2] + out_format\n",
    "        convert_pc2ply(annotation_path, join(original_pc_folder, out_file_name))"
   ]
  },
  {
   "cell_type": "code",
   "execution_count": null,
   "id": "healthy-scenario",
   "metadata": {},
   "outputs": [],
   "source": []
  }
 ],
 "metadata": {
  "kernelspec": {
   "display_name": "Python 3",
   "language": "python",
   "name": "python3"
  },
  "language_info": {
   "codemirror_mode": {
    "name": "ipython",
    "version": 3
   },
   "file_extension": ".py",
   "mimetype": "text/x-python",
   "name": "python",
   "nbconvert_exporter": "python",
   "pygments_lexer": "ipython3",
   "version": "3.8.8"
  }
 },
 "nbformat": 4,
 "nbformat_minor": 5
}